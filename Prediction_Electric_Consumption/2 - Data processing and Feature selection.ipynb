{
 "cells": [
  {
   "cell_type": "markdown",
   "metadata": {},
   "source": [
    "## Data processing and Feature Selection \n",
    "\n",
    "We will handle the incorrect values for some features and encoding a categorical features, as well as the preparation of data by reducing and selecting the best features.\n",
    "\n",
    "**Note**:\n",
    "\n",
    "In a real machine learning model project (for production), the data processing will be done separately in the training data, and then we will applied the same transformation to the test data. In this project, I will be applying some data processing in the whole data (before splitting the data) with the aim of simplifying the workflow.\n",
    "\n",
    "### Data processing and feature selection life cycle\n",
    "\n",
    "#### 1. Convert feature names to lowercase and Remove irrelevant variable\n",
    "#### 2. Encoding / Transform / Correct values in the features of the object type\n",
    "$\\;\\;$ 2.1 Encoding \"ur\" feature<br>\n",
    "$\\;\\;$ 2.2 Encoding \"metromicro\" and \"iecc_climate_pub\" features<br> \n",
    "$\\;\\;$ 2.3 Correct \"nocrcash\" and \"nkrgalnc\" features<br> \n",
    "#### 3. Feature Extraction / Selection\n",
    "$\\;\\;$ 3.1 Discover the importance of features<br>\n",
    "$\\;\\;\\;\\;\\;$ 3.1.1 Divide data (train/test)<br>\n",
    "$\\;\\;\\;\\;\\;$ 3.1.2 ExtraTreesRegressor for the important features<br>\n",
    "$\\;\\;$ 3.2 Principal Component Analysis \"PCA\"<br>\n",
    "$\\;\\;\\;\\;\\;$ 3.2.1 Create a new dataframe for Training set (PCA)<br>\n",
    "$\\;\\;\\;\\;\\;$ 3.2.2 Save the train data in a csv file<br>\n",
    "$\\;\\;\\;\\;\\;$ 3.2.3 Create a new dataframe for Test set (PCA)<br>\n",
    "$\\;\\;\\;\\;\\;$ 3.2.4 Save the test data in a csv file<br>\n",
    "#### 4. Conclusion"
   ]
  },
  {
   "cell_type": "code",
   "execution_count": 1,
   "metadata": {},
   "outputs": [],
   "source": [
    "# Importing the libraries \n",
    "import pandas as pd\n",
    "import numpy as np\n",
    "import matplotlib.pyplot as plt\n",
    "import seaborn as sns\n",
    "%matplotlib inline\n",
    "import warnings\n",
    "warnings.filterwarnings('ignore')"
   ]
  },
  {
   "cell_type": "code",
   "execution_count": 2,
   "metadata": {},
   "outputs": [
    {
     "data": {
      "text/html": [
       "<div>\n",
       "<style scoped>\n",
       "    .dataframe tbody tr th:only-of-type {\n",
       "        vertical-align: middle;\n",
       "    }\n",
       "\n",
       "    .dataframe tbody tr th {\n",
       "        vertical-align: top;\n",
       "    }\n",
       "\n",
       "    .dataframe thead th {\n",
       "        text-align: right;\n",
       "    }\n",
       "</style>\n",
       "<table border=\"1\" class=\"dataframe\">\n",
       "  <thead>\n",
       "    <tr style=\"text-align: right;\">\n",
       "      <th></th>\n",
       "      <th>DOEID</th>\n",
       "      <th>REGIONC</th>\n",
       "      <th>DIVISION</th>\n",
       "      <th>REPORTABLE_DOMAIN</th>\n",
       "      <th>TYPEHUQ</th>\n",
       "      <th>NWEIGHT</th>\n",
       "      <th>HDD65</th>\n",
       "      <th>CDD65</th>\n",
       "      <th>HDD30YR</th>\n",
       "      <th>CDD30YR</th>\n",
       "      <th>...</th>\n",
       "      <th>SCALEKER</th>\n",
       "      <th>IECC_Climate_Pub</th>\n",
       "      <th>HDD50</th>\n",
       "      <th>CDD80</th>\n",
       "      <th>GND_HDD65</th>\n",
       "      <th>WSF</th>\n",
       "      <th>OA_LAT</th>\n",
       "      <th>GWT</th>\n",
       "      <th>DesignDBT99</th>\n",
       "      <th>DesignDBT1</th>\n",
       "    </tr>\n",
       "  </thead>\n",
       "  <tbody>\n",
       "    <tr>\n",
       "      <th>0</th>\n",
       "      <td>1</td>\n",
       "      <td>2</td>\n",
       "      <td>4</td>\n",
       "      <td>12</td>\n",
       "      <td>2</td>\n",
       "      <td>2471.68</td>\n",
       "      <td>4742</td>\n",
       "      <td>1080</td>\n",
       "      <td>4953</td>\n",
       "      <td>1271</td>\n",
       "      <td>...</td>\n",
       "      <td>-2</td>\n",
       "      <td>4A</td>\n",
       "      <td>2117</td>\n",
       "      <td>56</td>\n",
       "      <td>4250</td>\n",
       "      <td>0.48</td>\n",
       "      <td>6</td>\n",
       "      <td>56</td>\n",
       "      <td>9</td>\n",
       "      <td>96</td>\n",
       "    </tr>\n",
       "    <tr>\n",
       "      <th>1</th>\n",
       "      <td>2</td>\n",
       "      <td>4</td>\n",
       "      <td>10</td>\n",
       "      <td>26</td>\n",
       "      <td>2</td>\n",
       "      <td>8599.17</td>\n",
       "      <td>2662</td>\n",
       "      <td>199</td>\n",
       "      <td>2688</td>\n",
       "      <td>143</td>\n",
       "      <td>...</td>\n",
       "      <td>-2</td>\n",
       "      <td>3C</td>\n",
       "      <td>62</td>\n",
       "      <td>26</td>\n",
       "      <td>2393</td>\n",
       "      <td>0.61</td>\n",
       "      <td>0</td>\n",
       "      <td>64</td>\n",
       "      <td>38</td>\n",
       "      <td>73</td>\n",
       "    </tr>\n",
       "    <tr>\n",
       "      <th>2</th>\n",
       "      <td>3</td>\n",
       "      <td>1</td>\n",
       "      <td>1</td>\n",
       "      <td>1</td>\n",
       "      <td>5</td>\n",
       "      <td>8969.92</td>\n",
       "      <td>6233</td>\n",
       "      <td>505</td>\n",
       "      <td>5741</td>\n",
       "      <td>829</td>\n",
       "      <td>...</td>\n",
       "      <td>-2</td>\n",
       "      <td>5A</td>\n",
       "      <td>2346</td>\n",
       "      <td>49</td>\n",
       "      <td>5654</td>\n",
       "      <td>0.48</td>\n",
       "      <td>3</td>\n",
       "      <td>52</td>\n",
       "      <td>12</td>\n",
       "      <td>88</td>\n",
       "    </tr>\n",
       "    <tr>\n",
       "      <th>3</th>\n",
       "      <td>4</td>\n",
       "      <td>2</td>\n",
       "      <td>3</td>\n",
       "      <td>7</td>\n",
       "      <td>2</td>\n",
       "      <td>18003.64</td>\n",
       "      <td>6034</td>\n",
       "      <td>672</td>\n",
       "      <td>5781</td>\n",
       "      <td>868</td>\n",
       "      <td>...</td>\n",
       "      <td>-2</td>\n",
       "      <td>5A</td>\n",
       "      <td>2746</td>\n",
       "      <td>0</td>\n",
       "      <td>4941</td>\n",
       "      <td>0.55</td>\n",
       "      <td>4</td>\n",
       "      <td>55</td>\n",
       "      <td>7</td>\n",
       "      <td>87</td>\n",
       "    </tr>\n",
       "    <tr>\n",
       "      <th>4</th>\n",
       "      <td>5</td>\n",
       "      <td>1</td>\n",
       "      <td>1</td>\n",
       "      <td>1</td>\n",
       "      <td>3</td>\n",
       "      <td>5999.61</td>\n",
       "      <td>5388</td>\n",
       "      <td>702</td>\n",
       "      <td>5313</td>\n",
       "      <td>797</td>\n",
       "      <td>...</td>\n",
       "      <td>-2</td>\n",
       "      <td>5A</td>\n",
       "      <td>2251</td>\n",
       "      <td>0</td>\n",
       "      <td>5426</td>\n",
       "      <td>0.61</td>\n",
       "      <td>4</td>\n",
       "      <td>50</td>\n",
       "      <td>13</td>\n",
       "      <td>90</td>\n",
       "    </tr>\n",
       "  </tbody>\n",
       "</table>\n",
       "<p>5 rows × 940 columns</p>\n",
       "</div>"
      ],
      "text/plain": [
       "   DOEID  REGIONC  DIVISION  REPORTABLE_DOMAIN  TYPEHUQ   NWEIGHT  HDD65  \\\n",
       "0      1        2         4                 12        2   2471.68   4742   \n",
       "1      2        4        10                 26        2   8599.17   2662   \n",
       "2      3        1         1                  1        5   8969.92   6233   \n",
       "3      4        2         3                  7        2  18003.64   6034   \n",
       "4      5        1         1                  1        3   5999.61   5388   \n",
       "\n",
       "   CDD65  HDD30YR  CDD30YR  ...  SCALEKER  IECC_Climate_Pub HDD50 CDD80  \\\n",
       "0   1080     4953     1271  ...        -2                4A  2117    56   \n",
       "1    199     2688      143  ...        -2                3C    62    26   \n",
       "2    505     5741      829  ...        -2                5A  2346    49   \n",
       "3    672     5781      868  ...        -2                5A  2746     0   \n",
       "4    702     5313      797  ...        -2                5A  2251     0   \n",
       "\n",
       "   GND_HDD65   WSF  OA_LAT  GWT  DesignDBT99  DesignDBT1  \n",
       "0       4250  0.48       6   56            9          96  \n",
       "1       2393  0.61       0   64           38          73  \n",
       "2       5654  0.48       3   52           12          88  \n",
       "3       4941  0.55       4   55            7          87  \n",
       "4       5426  0.61       4   50           13          90  \n",
       "\n",
       "[5 rows x 940 columns]"
      ]
     },
     "execution_count": 2,
     "metadata": {},
     "output_type": "execute_result"
    }
   ],
   "source": [
    "# load the RECS dataset\n",
    "path = \"data/\"\n",
    "df = pd.read_csv(path+'recs2009_public.csv')\n",
    "df.head()"
   ]
  },
  {
   "cell_type": "markdown",
   "metadata": {},
   "source": [
    "## 1. Convert feature names to lowercase and Remove irrelevant variable"
   ]
  },
  {
   "cell_type": "markdown",
   "metadata": {},
   "source": [
    "We can see that the names of the descriptors are not consistent"
   ]
  },
  {
   "cell_type": "code",
   "execution_count": 3,
   "metadata": {},
   "outputs": [
    {
     "data": {
      "text/html": [
       "<div>\n",
       "<style scoped>\n",
       "    .dataframe tbody tr th:only-of-type {\n",
       "        vertical-align: middle;\n",
       "    }\n",
       "\n",
       "    .dataframe tbody tr th {\n",
       "        vertical-align: top;\n",
       "    }\n",
       "\n",
       "    .dataframe thead th {\n",
       "        text-align: right;\n",
       "    }\n",
       "</style>\n",
       "<table border=\"1\" class=\"dataframe\">\n",
       "  <thead>\n",
       "    <tr style=\"text-align: right;\">\n",
       "      <th></th>\n",
       "      <th>doeid</th>\n",
       "      <th>regionc</th>\n",
       "      <th>division</th>\n",
       "      <th>reportable_domain</th>\n",
       "      <th>typehuq</th>\n",
       "      <th>nweight</th>\n",
       "      <th>hdd65</th>\n",
       "      <th>cdd65</th>\n",
       "      <th>hdd30yr</th>\n",
       "      <th>cdd30yr</th>\n",
       "      <th>...</th>\n",
       "      <th>scaleker</th>\n",
       "      <th>iecc_climate_pub</th>\n",
       "      <th>hdd50</th>\n",
       "      <th>cdd80</th>\n",
       "      <th>gnd_hdd65</th>\n",
       "      <th>wsf</th>\n",
       "      <th>oa_lat</th>\n",
       "      <th>gwt</th>\n",
       "      <th>designdbt99</th>\n",
       "      <th>designdbt1</th>\n",
       "    </tr>\n",
       "  </thead>\n",
       "  <tbody>\n",
       "    <tr>\n",
       "      <th>0</th>\n",
       "      <td>1</td>\n",
       "      <td>2</td>\n",
       "      <td>4</td>\n",
       "      <td>12</td>\n",
       "      <td>2</td>\n",
       "      <td>2471.68</td>\n",
       "      <td>4742</td>\n",
       "      <td>1080</td>\n",
       "      <td>4953</td>\n",
       "      <td>1271</td>\n",
       "      <td>...</td>\n",
       "      <td>-2</td>\n",
       "      <td>4A</td>\n",
       "      <td>2117</td>\n",
       "      <td>56</td>\n",
       "      <td>4250</td>\n",
       "      <td>0.48</td>\n",
       "      <td>6</td>\n",
       "      <td>56</td>\n",
       "      <td>9</td>\n",
       "      <td>96</td>\n",
       "    </tr>\n",
       "    <tr>\n",
       "      <th>1</th>\n",
       "      <td>2</td>\n",
       "      <td>4</td>\n",
       "      <td>10</td>\n",
       "      <td>26</td>\n",
       "      <td>2</td>\n",
       "      <td>8599.17</td>\n",
       "      <td>2662</td>\n",
       "      <td>199</td>\n",
       "      <td>2688</td>\n",
       "      <td>143</td>\n",
       "      <td>...</td>\n",
       "      <td>-2</td>\n",
       "      <td>3C</td>\n",
       "      <td>62</td>\n",
       "      <td>26</td>\n",
       "      <td>2393</td>\n",
       "      <td>0.61</td>\n",
       "      <td>0</td>\n",
       "      <td>64</td>\n",
       "      <td>38</td>\n",
       "      <td>73</td>\n",
       "    </tr>\n",
       "  </tbody>\n",
       "</table>\n",
       "<p>2 rows × 940 columns</p>\n",
       "</div>"
      ],
      "text/plain": [
       "   doeid  regionc  division  reportable_domain  typehuq  nweight  hdd65  \\\n",
       "0      1        2         4                 12        2  2471.68   4742   \n",
       "1      2        4        10                 26        2  8599.17   2662   \n",
       "\n",
       "   cdd65  hdd30yr  cdd30yr  ...  scaleker  iecc_climate_pub hdd50 cdd80  \\\n",
       "0   1080     4953     1271  ...        -2                4A  2117    56   \n",
       "1    199     2688      143  ...        -2                3C    62    26   \n",
       "\n",
       "   gnd_hdd65   wsf  oa_lat  gwt  designdbt99  designdbt1  \n",
       "0       4250  0.48       6   56            9          96  \n",
       "1       2393  0.61       0   64           38          73  \n",
       "\n",
       "[2 rows x 940 columns]"
      ]
     },
     "execution_count": 3,
     "metadata": {},
     "output_type": "execute_result"
    }
   ],
   "source": [
    "# Convert all column headers (feature names) to lowercase\n",
    "nettoyage_colonnes_noms = []\n",
    "colonnes = df.columns\n",
    "for i in range(len(colonnes)):\n",
    "    nettoyage_colonnes_noms.append(colonnes[i].lower())\n",
    "df.columns = nettoyage_colonnes_noms\n",
    "df.head(2)"
   ]
  },
  {
   "cell_type": "markdown",
   "metadata": {},
   "source": [
    "As we can see, the values of the **doeid** variable are unique identifiers for each customer. I will remove it from the dataframe, as they do not give useful information for ML model."
   ]
  },
  {
   "cell_type": "code",
   "execution_count": 4,
   "metadata": {},
   "outputs": [],
   "source": [
    "# Remove irrelevant variable as shown above\n",
    "df = df.drop([\"doeid\"], axis = 1)"
   ]
  },
  {
   "cell_type": "markdown",
   "metadata": {},
   "source": [
    "## 2. Encoding / Transform / Correct values in the features of the object type"
   ]
  },
  {
   "cell_type": "code",
   "execution_count": 5,
   "metadata": {},
   "outputs": [
    {
     "data": {
      "text/plain": [
       "['metromicro', 'ur', 'nocrcash', 'nkrgalnc', 'iecc_climate_pub']"
      ]
     },
     "execution_count": 5,
     "metadata": {},
     "output_type": "execute_result"
    }
   ],
   "source": [
    "# Analyze the categorical_object_features\n",
    "categorical_object_features = [feature for feature in df.columns if df[feature].dtype == 'O']\n",
    "categorical_object_features"
   ]
  },
  {
   "cell_type": "markdown",
   "metadata": {},
   "source": [
    "### 2.1 Encoding \"ur\" feature"
   ]
  },
  {
   "cell_type": "code",
   "execution_count": 6,
   "metadata": {},
   "outputs": [
    {
     "data": {
      "text/plain": [
       "U    9656\n",
       "R    2427\n",
       "Name: ur, dtype: int64"
      ]
     },
     "execution_count": 6,
     "metadata": {},
     "output_type": "execute_result"
    }
   ],
   "source": [
    "# Unique values of 'ur'\n",
    "df[\"ur\"].value_counts()"
   ]
  },
  {
   "cell_type": "markdown",
   "metadata": {},
   "source": [
    "We only have 2 categories (**U** or **R**), in this case we choose a simple encoding with mapping method"
   ]
  },
  {
   "cell_type": "code",
   "execution_count": 7,
   "metadata": {},
   "outputs": [
    {
     "data": {
      "text/plain": [
       "1    9656\n",
       "0    2427\n",
       "Name: ur_encode, dtype: int64"
      ]
     },
     "execution_count": 7,
     "metadata": {},
     "output_type": "execute_result"
    }
   ],
   "source": [
    "# Encoding with mapping\n",
    "map_sex = {\"U\": 1, \"R\": 0}\n",
    "df['ur_encode'] = df.ur.map(map_sex)\n",
    "# Drop ur feature\n",
    "df.drop('ur', axis=1, inplace=True)\n",
    "df['ur_encode'].value_counts()"
   ]
  },
  {
   "cell_type": "markdown",
   "metadata": {},
   "source": [
    "### 2.2 Encoding \"metromicro\" and \"iecc_climate_pub\" features"
   ]
  },
  {
   "cell_type": "markdown",
   "metadata": {},
   "source": [
    "The solution to deal with categorical variables (**metromicro** and **iecc_climate_pub**) with more than two categories is to use **one-hot encoding** method."
   ]
  },
  {
   "cell_type": "code",
   "execution_count": 8,
   "metadata": {},
   "outputs": [],
   "source": [
    "# Preparation for data encoding\n",
    "# X has the data of the two features \"metromicro\", \"iecc_climate_pub\"\n",
    "X = df[[\"metromicro\", \"iecc_climate_pub\"]]\n",
    "# Create a categorical boolean mask\n",
    "categorical_feature_mask = X.dtypes == object\n",
    "# Filter categorical columns in a list\n",
    "categorical_cols = X.columns[categorical_feature_mask].tolist()"
   ]
  },
  {
   "cell_type": "code",
   "execution_count": 9,
   "metadata": {},
   "outputs": [],
   "source": [
    "from sklearn.preprocessing import OneHotEncoder\n",
    "\n",
    "# Instantiate the OneHotEncoder object\n",
    "ohe = OneHotEncoder(handle_unknown='ignore', sparse = False)\n",
    "\n",
    "# Apply ohe on the data\n",
    "ohe.fit(X[categorical_cols])\n",
    "cat_ohe = ohe.transform(df[categorical_cols])"
   ]
  },
  {
   "cell_type": "code",
   "execution_count": 10,
   "metadata": {},
   "outputs": [],
   "source": [
    "# Create a hot encoded column DataFrame\n",
    "df_ohe = pd.DataFrame(cat_ohe, columns = ohe.get_feature_names(input_features = categorical_cols))\n",
    "\n",
    "# Concat with original df and remove original columns \"metromicro\" and \"iecc_climate_pub\"\n",
    "df = pd.concat([df, df_ohe], axis=1).drop(columns = categorical_cols, axis=1)"
   ]
  },
  {
   "cell_type": "code",
   "execution_count": 11,
   "metadata": {},
   "outputs": [
    {
     "data": {
      "text/html": [
       "<div>\n",
       "<style scoped>\n",
       "    .dataframe tbody tr th:only-of-type {\n",
       "        vertical-align: middle;\n",
       "    }\n",
       "\n",
       "    .dataframe tbody tr th {\n",
       "        vertical-align: top;\n",
       "    }\n",
       "\n",
       "    .dataframe thead th {\n",
       "        text-align: right;\n",
       "    }\n",
       "</style>\n",
       "<table border=\"1\" class=\"dataframe\">\n",
       "  <thead>\n",
       "    <tr style=\"text-align: right;\">\n",
       "      <th></th>\n",
       "      <th>regionc</th>\n",
       "      <th>division</th>\n",
       "      <th>reportable_domain</th>\n",
       "      <th>typehuq</th>\n",
       "      <th>nweight</th>\n",
       "      <th>hdd65</th>\n",
       "      <th>cdd65</th>\n",
       "      <th>hdd30yr</th>\n",
       "      <th>cdd30yr</th>\n",
       "      <th>climate_region_pub</th>\n",
       "      <th>...</th>\n",
       "      <th>iecc_climate_pub_2B</th>\n",
       "      <th>iecc_climate_pub_3A</th>\n",
       "      <th>iecc_climate_pub_3B-4B</th>\n",
       "      <th>iecc_climate_pub_3C</th>\n",
       "      <th>iecc_climate_pub_4A</th>\n",
       "      <th>iecc_climate_pub_4C</th>\n",
       "      <th>iecc_climate_pub_5A</th>\n",
       "      <th>iecc_climate_pub_5B-5C</th>\n",
       "      <th>iecc_climate_pub_6A-6B</th>\n",
       "      <th>iecc_climate_pub_7A-7B-7AK-8AK</th>\n",
       "    </tr>\n",
       "  </thead>\n",
       "  <tbody>\n",
       "    <tr>\n",
       "      <th>0</th>\n",
       "      <td>2</td>\n",
       "      <td>4</td>\n",
       "      <td>12</td>\n",
       "      <td>2</td>\n",
       "      <td>2471.68</td>\n",
       "      <td>4742</td>\n",
       "      <td>1080</td>\n",
       "      <td>4953</td>\n",
       "      <td>1271</td>\n",
       "      <td>4</td>\n",
       "      <td>...</td>\n",
       "      <td>0.0</td>\n",
       "      <td>0.0</td>\n",
       "      <td>0.0</td>\n",
       "      <td>0.0</td>\n",
       "      <td>1.0</td>\n",
       "      <td>0.0</td>\n",
       "      <td>0.0</td>\n",
       "      <td>0.0</td>\n",
       "      <td>0.0</td>\n",
       "      <td>0.0</td>\n",
       "    </tr>\n",
       "    <tr>\n",
       "      <th>1</th>\n",
       "      <td>4</td>\n",
       "      <td>10</td>\n",
       "      <td>26</td>\n",
       "      <td>2</td>\n",
       "      <td>8599.17</td>\n",
       "      <td>2662</td>\n",
       "      <td>199</td>\n",
       "      <td>2688</td>\n",
       "      <td>143</td>\n",
       "      <td>5</td>\n",
       "      <td>...</td>\n",
       "      <td>0.0</td>\n",
       "      <td>0.0</td>\n",
       "      <td>0.0</td>\n",
       "      <td>1.0</td>\n",
       "      <td>0.0</td>\n",
       "      <td>0.0</td>\n",
       "      <td>0.0</td>\n",
       "      <td>0.0</td>\n",
       "      <td>0.0</td>\n",
       "      <td>0.0</td>\n",
       "    </tr>\n",
       "    <tr>\n",
       "      <th>2</th>\n",
       "      <td>1</td>\n",
       "      <td>1</td>\n",
       "      <td>1</td>\n",
       "      <td>5</td>\n",
       "      <td>8969.92</td>\n",
       "      <td>6233</td>\n",
       "      <td>505</td>\n",
       "      <td>5741</td>\n",
       "      <td>829</td>\n",
       "      <td>1</td>\n",
       "      <td>...</td>\n",
       "      <td>0.0</td>\n",
       "      <td>0.0</td>\n",
       "      <td>0.0</td>\n",
       "      <td>0.0</td>\n",
       "      <td>0.0</td>\n",
       "      <td>0.0</td>\n",
       "      <td>1.0</td>\n",
       "      <td>0.0</td>\n",
       "      <td>0.0</td>\n",
       "      <td>0.0</td>\n",
       "    </tr>\n",
       "    <tr>\n",
       "      <th>3</th>\n",
       "      <td>2</td>\n",
       "      <td>3</td>\n",
       "      <td>7</td>\n",
       "      <td>2</td>\n",
       "      <td>18003.64</td>\n",
       "      <td>6034</td>\n",
       "      <td>672</td>\n",
       "      <td>5781</td>\n",
       "      <td>868</td>\n",
       "      <td>1</td>\n",
       "      <td>...</td>\n",
       "      <td>0.0</td>\n",
       "      <td>0.0</td>\n",
       "      <td>0.0</td>\n",
       "      <td>0.0</td>\n",
       "      <td>0.0</td>\n",
       "      <td>0.0</td>\n",
       "      <td>1.0</td>\n",
       "      <td>0.0</td>\n",
       "      <td>0.0</td>\n",
       "      <td>0.0</td>\n",
       "    </tr>\n",
       "    <tr>\n",
       "      <th>4</th>\n",
       "      <td>1</td>\n",
       "      <td>1</td>\n",
       "      <td>1</td>\n",
       "      <td>3</td>\n",
       "      <td>5999.61</td>\n",
       "      <td>5388</td>\n",
       "      <td>702</td>\n",
       "      <td>5313</td>\n",
       "      <td>797</td>\n",
       "      <td>1</td>\n",
       "      <td>...</td>\n",
       "      <td>0.0</td>\n",
       "      <td>0.0</td>\n",
       "      <td>0.0</td>\n",
       "      <td>0.0</td>\n",
       "      <td>0.0</td>\n",
       "      <td>0.0</td>\n",
       "      <td>1.0</td>\n",
       "      <td>0.0</td>\n",
       "      <td>0.0</td>\n",
       "      <td>0.0</td>\n",
       "    </tr>\n",
       "  </tbody>\n",
       "</table>\n",
       "<p>5 rows × 951 columns</p>\n",
       "</div>"
      ],
      "text/plain": [
       "   regionc  division  reportable_domain  typehuq   nweight  hdd65  cdd65  \\\n",
       "0        2         4                 12        2   2471.68   4742   1080   \n",
       "1        4        10                 26        2   8599.17   2662    199   \n",
       "2        1         1                  1        5   8969.92   6233    505   \n",
       "3        2         3                  7        2  18003.64   6034    672   \n",
       "4        1         1                  1        3   5999.61   5388    702   \n",
       "\n",
       "   hdd30yr  cdd30yr  climate_region_pub  ...  iecc_climate_pub_2B  \\\n",
       "0     4953     1271                   4  ...                  0.0   \n",
       "1     2688      143                   5  ...                  0.0   \n",
       "2     5741      829                   1  ...                  0.0   \n",
       "3     5781      868                   1  ...                  0.0   \n",
       "4     5313      797                   1  ...                  0.0   \n",
       "\n",
       "   iecc_climate_pub_3A  iecc_climate_pub_3B-4B  iecc_climate_pub_3C  \\\n",
       "0                  0.0                     0.0                  0.0   \n",
       "1                  0.0                     0.0                  1.0   \n",
       "2                  0.0                     0.0                  0.0   \n",
       "3                  0.0                     0.0                  0.0   \n",
       "4                  0.0                     0.0                  0.0   \n",
       "\n",
       "   iecc_climate_pub_4A  iecc_climate_pub_4C  iecc_climate_pub_5A  \\\n",
       "0                  1.0                  0.0                  0.0   \n",
       "1                  0.0                  0.0                  0.0   \n",
       "2                  0.0                  0.0                  1.0   \n",
       "3                  0.0                  0.0                  1.0   \n",
       "4                  0.0                  0.0                  1.0   \n",
       "\n",
       "   iecc_climate_pub_5B-5C  iecc_climate_pub_6A-6B  \\\n",
       "0                     0.0                     0.0   \n",
       "1                     0.0                     0.0   \n",
       "2                     0.0                     0.0   \n",
       "3                     0.0                     0.0   \n",
       "4                     0.0                     0.0   \n",
       "\n",
       "   iecc_climate_pub_7A-7B-7AK-8AK  \n",
       "0                             0.0  \n",
       "1                             0.0  \n",
       "2                             0.0  \n",
       "3                             0.0  \n",
       "4                             0.0  \n",
       "\n",
       "[5 rows x 951 columns]"
      ]
     },
     "execution_count": 11,
     "metadata": {},
     "output_type": "execute_result"
    }
   ],
   "source": [
    "df.head()"
   ]
  },
  {
   "cell_type": "markdown",
   "metadata": {},
   "source": [
    "### 2.3 Correct \"nocrcash\" and \"nkrgalnc\" features"
   ]
  },
  {
   "cell_type": "markdown",
   "metadata": {},
   "source": [
    "As the values are categorical, and we have only two values \"**.**\" in each feature , we propose to replace these \"**.**\" values by the most frequent values in  nocrcash and nkrgalnc. Then convert the type of each feature to integer."
   ]
  },
  {
   "cell_type": "markdown",
   "metadata": {},
   "source": [
    "#### \"nocrcash\" feature"
   ]
  },
  {
   "cell_type": "code",
   "execution_count": 13,
   "metadata": {},
   "outputs": [
    {
     "data": {
      "text/plain": [
       "-2    9958\n",
       "-2    2028\n",
       "1       18\n",
       "3       10\n",
       "4       10\n",
       "5        9\n",
       "2        7\n",
       "1        6\n",
       "16       4\n",
       "6        3\n",
       "12       3\n",
       "8        3\n",
       "3        2\n",
       "12       2\n",
       "15       2\n",
       "24       2\n",
       "55       2\n",
       "4        2\n",
       ".        2\n",
       "10       1\n",
       "20       1\n",
       "25       1\n",
       "55       1\n",
       "40       1\n",
       "10       1\n",
       "20       1\n",
       "24       1\n",
       "6        1\n",
       "28       1\n",
       "Name: nocrcash, dtype: int64"
      ]
     },
     "execution_count": 13,
     "metadata": {},
     "output_type": "execute_result"
    }
   ],
   "source": [
    "# Unique values of 'nocrcash'\n",
    "df[\"nocrcash\"].value_counts()"
   ]
  },
  {
   "cell_type": "code",
   "execution_count": 14,
   "metadata": {},
   "outputs": [
    {
     "data": {
      "text/plain": [
       "-2     11988\n",
       " 1        24\n",
       " 3        12\n",
       " 4        12\n",
       " 5         9\n",
       " 2         7\n",
       " 12        5\n",
       " 6         4\n",
       " 16        4\n",
       " 24        3\n",
       " 55        3\n",
       " 8         3\n",
       " 10        2\n",
       " 15        2\n",
       " 20        2\n",
       " 25        1\n",
       " 40        1\n",
       " 28        1\n",
       "Name: nocrcash, dtype: int64"
      ]
     },
     "execution_count": 14,
     "metadata": {},
     "output_type": "execute_result"
    }
   ],
   "source": [
    "# Replace \".\" by most frequent values and convert the type of feature to integer.\n",
    "mode_value = df[\"nocrcash\"].mode()[0]\n",
    "df[\"nocrcash\"] = df[\"nocrcash\"].replace('.', mode_value).astype(int)\n",
    "df[\"nocrcash\"].value_counts()"
   ]
  },
  {
   "cell_type": "markdown",
   "metadata": {},
   "source": [
    "#### \"nkrgalnc\" feature"
   ]
  },
  {
   "cell_type": "code",
   "execution_count": 15,
   "metadata": {},
   "outputs": [
    {
     "data": {
      "text/plain": [
       "-2    9958\n",
       "-2    2028\n",
       "5       42\n",
       "3       11\n",
       "1       10\n",
       "10       8\n",
       "5        5\n",
       "10       5\n",
       ".        2\n",
       "15       2\n",
       "1        2\n",
       "77       1\n",
       "3        1\n",
       "8        1\n",
       "30       1\n",
       "20       1\n",
       "15       1\n",
       "8        1\n",
       "2        1\n",
       "2        1\n",
       "55       1\n",
       "Name: nkrgalnc, dtype: int64"
      ]
     },
     "execution_count": 15,
     "metadata": {},
     "output_type": "execute_result"
    }
   ],
   "source": [
    "# Unique values of 'nocrcash'\n",
    "df[\"nkrgalnc\"].value_counts()"
   ]
  },
  {
   "cell_type": "code",
   "execution_count": 16,
   "metadata": {},
   "outputs": [
    {
     "data": {
      "text/plain": [
       "-2     11988\n",
       " 5        47\n",
       " 10       13\n",
       " 3        12\n",
       " 1        12\n",
       " 15        3\n",
       " 2         2\n",
       " 8         2\n",
       " 55        1\n",
       " 30        1\n",
       " 77        1\n",
       " 20        1\n",
       "Name: nkrgalnc, dtype: int64"
      ]
     },
     "execution_count": 16,
     "metadata": {},
     "output_type": "execute_result"
    }
   ],
   "source": [
    "# Replace \".\" by most frequent values and convert the type of feature to integer.\n",
    "mode_value = df[\"nkrgalnc\"].mode()[0]\n",
    "df[\"nkrgalnc\"] = df[\"nkrgalnc\"].replace('.', mode_value).astype(int)\n",
    "df[\"nkrgalnc\"].value_counts()"
   ]
  },
  {
   "cell_type": "markdown",
   "metadata": {},
   "source": [
    "## 3. Feature Extraction / Selection"
   ]
  },
  {
   "cell_type": "markdown",
   "metadata": {},
   "source": [
    "Having too many irrelevant features in the data can decrease the accuracy of the models. Three benefits of performing feature selection before modeling our data are:\n",
    "* Reduces over-fitting: Less redundant data means less opportunity to make decisions based on noise.\n",
    "* Improves accuracy: Less misleading data means modeling accuracy improves.\n",
    "* Reduces training time: Less data means that algorithms train faster."
   ]
  },
  {
   "cell_type": "markdown",
   "metadata": {},
   "source": [
    "### 3.1 Discover the importance of features\n",
    "\n",
    "In order to get a rough idea about the important features, we apply the **ExtraTreesRegressor** to find out the important characteristics for our target.\n",
    "\n",
    "**Why ExtraTreesRegressor ?** <br>\n",
    "ExtraTreesRegressor is about building multiple decision trees. Decision tree doesn't require feature normalization, that's because the model only needs the absolute values for branching."
   ]
  },
  {
   "cell_type": "markdown",
   "metadata": {},
   "source": [
    "### 3.1.1.  Divide data (train/test)"
   ]
  },
  {
   "cell_type": "code",
   "execution_count": 17,
   "metadata": {},
   "outputs": [],
   "source": [
    "from sklearn.model_selection import train_test_split\n",
    "\n",
    "#Splitting the dataset into training data and test data\n",
    "X = df.drop(columns = [\"kwh\"], axis=1)\n",
    "y = df.kwh\n",
    "X_train, X_test, y_train, y_test = train_test_split(X, y, test_size=0.20, random_state=42)"
   ]
  },
  {
   "cell_type": "markdown",
   "metadata": {},
   "source": [
    "The code above splits the database.\n",
    "\n",
    "We will use 80 $ \\% $ of the data for the training process, then, we will use the remaining 20 $ \\% $ to test our model."
   ]
  },
  {
   "cell_type": "markdown",
   "metadata": {},
   "source": [
    "### 3.1.2. ExtraTreesRegressor for the important features"
   ]
  },
  {
   "cell_type": "code",
   "execution_count": 18,
   "metadata": {},
   "outputs": [
    {
     "data": {
      "image/png": "[encoded data removed]",
      "text/plain": [
       "<Figure size 1008x432 with 1 Axes>"
      ]
     },
     "metadata": {
      "needs_background": "light"
     },
     "output_type": "display_data"
    }
   ],
   "source": [
    "from sklearn.ensemble import ExtraTreesRegressor\n",
    "\n",
    "# Create a ExtraTreesRegressor\n",
    "model_extra_tree = ExtraTreesRegressor()\n",
    "\n",
    "# Fit model on the train set\n",
    "model_extra_tree.fit(X_train,y_train)\n",
    "\n",
    "indices_extra_tree = np.argsort(model_extra_tree.feature_importances_)[::-1]\n",
    "selected_feature_extra_tree = []\n",
    "\n",
    "# Select the best 25 features\n",
    "for i in range(25):\n",
    "    selected_feature_extra_tree.append(X_train.columns[indices_extra_tree[i]])\n",
    "    \n",
    "# Plot the impurity-based feature importances of the forest\n",
    "plt.figure(figsize=(14,6))\n",
    "plt.title(\"Feature importances\")\n",
    "plt.bar(selected_feature_extra_tree, model_extra_tree.feature_importances_[indices_extra_tree[range(25)]],\n",
    "        color=\"r\", align=\"center\")\n",
    "plt.xticks(rotation=45)\n",
    "plt.show()"
   ]
  },
  {
   "cell_type": "markdown",
   "metadata": {},
   "source": [
    "This examples shows the use of ExtraTreesRegressor to evaluate the importance of features. The red bars are the impurity-based feature importances of the forest, along with their inter-trees variability.\n",
    "\n",
    "As expected, the plot suggests that **4** features are informative ['btuel', 'btueloth', 'kwhoth', 'dollarel'], while the remaining 21 features are less informative.\n",
    "\n",
    "**Note !**:\n",
    "\n",
    "The problem that the most informative features are strongly correlated such as \"btuel\" with \"btueloth\" (Correlation= 88), the solution is to use **PCA** to reduce dimensionality and deal with highly correlated variables."
   ]
  },
  {
   "cell_type": "markdown",
   "metadata": {},
   "source": [
    "### 3.2. Principal Component Analysis \"PCA\""
   ]
  },
  {
   "cell_type": "code",
   "execution_count": 55,
   "metadata": {},
   "outputs": [
    {
     "data": {
      "image/png": "[encoded data removed]",
      "text/plain": [
       "<Figure size 1008x432 with 1 Axes>"
      ]
     },
     "metadata": {
      "needs_background": "light"
     },
     "output_type": "display_data"
    }
   ],
   "source": [
    "from sklearn.decomposition import PCA\n",
    "\n",
    "# Initiate PCA\n",
    "pca = PCA(n_components=10)\n",
    "\n",
    "# Transform and fit PCA\n",
    "pca.fit(X_train)\n",
    "pca.transform(X_train)\n",
    "\n",
    "# Display the graph that allows us to see the variances explained in relation to the number of components\n",
    "exp_var_cumul = np.cumsum(pca.explained_variance_ratio_)\n",
    "\n",
    "plt.figure(figsize=(14,6))\n",
    "plt.title('Variances compared to the number of components')\n",
    "plt.ylabel('Explained Variance')\n",
    "plt.xlabel('# Components')\n",
    "plt.plot(exp_var_cumul)\n",
    "plt.show()"
   ]
  },
  {
   "cell_type": "code",
   "execution_count": 56,
   "metadata": {},
   "outputs": [
    {
     "name": "stdout",
     "output_type": "stream",
     "text": [
      "[0.563 0.728 0.842 0.89  0.924 0.954 0.971 0.981 0.986 0.989]\n"
     ]
    }
   ],
   "source": [
    "print(np.round(exp_var_cumul, 3))"
   ]
  },
  {
   "cell_type": "code",
   "execution_count": 27,
   "metadata": {},
   "outputs": [
    {
     "name": "stdout",
     "output_type": "stream",
     "text": [
      "[0.56255486 0.16593074 0.11321839 0.04859468 0.03400167 0.02988174\n",
      " 0.01723562 0.00925296 0.00506752 0.00323339]\n"
     ]
    }
   ],
   "source": [
    "variance_explique = pca.explained_variance_ratio_\n",
    "print(variance_explique)"
   ]
  },
  {
   "cell_type": "code",
   "execution_count": 28,
   "metadata": {},
   "outputs": [
    {
     "name": "stdout",
     "output_type": "stream",
     "text": [
      "[[-3.67770819e-06 -9.47296405e-06 -3.09335456e-05 ...  1.29169296e-07\n",
      "   5.04176816e-07  5.20818823e-08]\n",
      " [-2.21529518e-06 -7.89579112e-06 -1.68819046e-05 ... -2.21620914e-07\n",
      "   1.57286896e-07  1.00040296e-07]\n",
      " [-1.03188449e-05 -2.43115333e-05 -8.22258023e-05 ... -3.26086886e-08\n",
      "   1.16542570e-06  2.49451288e-07]\n",
      " ...\n",
      " [ 7.89427166e-06  1.42034694e-05  8.08965915e-05 ... -2.25389066e-06\n",
      "  -3.31939111e-06 -7.55165833e-07]\n",
      " [-9.40207499e-06 -3.18990935e-05 -8.04992201e-05 ... -3.86073587e-07\n",
      "  -3.45120555e-07  6.08664552e-07]\n",
      " [ 9.19312178e-06  2.84220472e-05  7.72994661e-05 ...  3.87926062e-08\n",
      "   6.40224245e-07  1.89795081e-07]]\n"
     ]
    }
   ],
   "source": [
    "# Display PCA components\n",
    "print(pca.components_)"
   ]
  },
  {
   "cell_type": "markdown",
   "metadata": {},
   "source": [
    "After implementing the PCA on training dataset, all the Principal Components are independent of one another. There is no correlation among them.\n",
    "\n",
    "**Select the number of principal components \"k\"?**\n",
    "\n",
    "Based on this **graph** and **exp_var_cumul**, we can decide how many principal components we need to take into account.\n",
    "\n",
    "To keep **99% of the variance**, We choose **k = 10** as number of principal components."
   ]
  },
  {
   "cell_type": "markdown",
   "metadata": {},
   "source": [
    "### 3.2.1. Create a new dataframe for Training set (PCA)"
   ]
  },
  {
   "cell_type": "code",
   "execution_count": 57,
   "metadata": {},
   "outputs": [
    {
     "data": {
      "text/html": [
       "<div>\n",
       "<style scoped>\n",
       "    .dataframe tbody tr th:only-of-type {\n",
       "        vertical-align: middle;\n",
       "    }\n",
       "\n",
       "    .dataframe tbody tr th {\n",
       "        vertical-align: top;\n",
       "    }\n",
       "\n",
       "    .dataframe thead th {\n",
       "        text-align: right;\n",
       "    }\n",
       "</style>\n",
       "<table border=\"1\" class=\"dataframe\">\n",
       "  <thead>\n",
       "    <tr style=\"text-align: right;\">\n",
       "      <th></th>\n",
       "      <th>principal component 1</th>\n",
       "      <th>principal component 2</th>\n",
       "      <th>principal component 3</th>\n",
       "      <th>principal component 4</th>\n",
       "      <th>principal component 5</th>\n",
       "      <th>principal component 6</th>\n",
       "      <th>principal component 7</th>\n",
       "      <th>principal component 8</th>\n",
       "      <th>principal component 9</th>\n",
       "      <th>principal component 10</th>\n",
       "      <th>kwh</th>\n",
       "    </tr>\n",
       "  </thead>\n",
       "  <tbody>\n",
       "    <tr>\n",
       "      <th>0</th>\n",
       "      <td>64443.196746</td>\n",
       "      <td>-12130.552231</td>\n",
       "      <td>-9017.046877</td>\n",
       "      <td>-1576.906272</td>\n",
       "      <td>-3944.797021</td>\n",
       "      <td>-6800.028513</td>\n",
       "      <td>-6447.942944</td>\n",
       "      <td>-5941.548058</td>\n",
       "      <td>-9249.646039</td>\n",
       "      <td>3445.806410</td>\n",
       "      <td>12457</td>\n",
       "    </tr>\n",
       "    <tr>\n",
       "      <th>1</th>\n",
       "      <td>33174.440448</td>\n",
       "      <td>-28476.093839</td>\n",
       "      <td>1765.176862</td>\n",
       "      <td>-700.302650</td>\n",
       "      <td>-467.458937</td>\n",
       "      <td>3454.452037</td>\n",
       "      <td>3303.774092</td>\n",
       "      <td>-5001.737759</td>\n",
       "      <td>-3809.080620</td>\n",
       "      <td>1257.522820</td>\n",
       "      <td>7460</td>\n",
       "    </tr>\n",
       "    <tr>\n",
       "      <th>2</th>\n",
       "      <td>-89626.023751</td>\n",
       "      <td>-15250.684842</td>\n",
       "      <td>355.415866</td>\n",
       "      <td>-4.331309</td>\n",
       "      <td>-3812.731708</td>\n",
       "      <td>293.242956</td>\n",
       "      <td>4627.438961</td>\n",
       "      <td>-5422.789170</td>\n",
       "      <td>-3029.805489</td>\n",
       "      <td>134.897706</td>\n",
       "      <td>8048</td>\n",
       "    </tr>\n",
       "    <tr>\n",
       "      <th>3</th>\n",
       "      <td>125195.396039</td>\n",
       "      <td>-52763.690651</td>\n",
       "      <td>17210.150361</td>\n",
       "      <td>5276.678821</td>\n",
       "      <td>630.407621</td>\n",
       "      <td>-501.823369</td>\n",
       "      <td>-1494.136485</td>\n",
       "      <td>-328.965622</td>\n",
       "      <td>2114.788736</td>\n",
       "      <td>-1933.006179</td>\n",
       "      <td>4510</td>\n",
       "    </tr>\n",
       "    <tr>\n",
       "      <th>4</th>\n",
       "      <td>7884.987330</td>\n",
       "      <td>77318.319389</td>\n",
       "      <td>-5588.448482</td>\n",
       "      <td>91911.471228</td>\n",
       "      <td>16125.491252</td>\n",
       "      <td>40596.859494</td>\n",
       "      <td>-14983.005210</td>\n",
       "      <td>2822.441916</td>\n",
       "      <td>-13386.277300</td>\n",
       "      <td>-29635.386235</td>\n",
       "      <td>13062</td>\n",
       "    </tr>\n",
       "  </tbody>\n",
       "</table>\n",
       "</div>"
      ],
      "text/plain": [
       "   principal component 1  principal component 2  principal component 3  \\\n",
       "0           64443.196746          -12130.552231           -9017.046877   \n",
       "1           33174.440448          -28476.093839            1765.176862   \n",
       "2          -89626.023751          -15250.684842             355.415866   \n",
       "3          125195.396039          -52763.690651           17210.150361   \n",
       "4            7884.987330           77318.319389           -5588.448482   \n",
       "\n",
       "   principal component 4  principal component 5  principal component 6  \\\n",
       "0           -1576.906272           -3944.797021           -6800.028513   \n",
       "1            -700.302650            -467.458937            3454.452037   \n",
       "2              -4.331309           -3812.731708             293.242956   \n",
       "3            5276.678821             630.407621            -501.823369   \n",
       "4           91911.471228           16125.491252           40596.859494   \n",
       "\n",
       "   principal component 7  principal component 8  principal component 9  \\\n",
       "0           -6447.942944           -5941.548058           -9249.646039   \n",
       "1            3303.774092           -5001.737759           -3809.080620   \n",
       "2            4627.438961           -5422.789170           -3029.805489   \n",
       "3           -1494.136485            -328.965622            2114.788736   \n",
       "4          -14983.005210            2822.441916          -13386.277300   \n",
       "\n",
       "   principal component 10    kwh  \n",
       "0             3445.806410  12457  \n",
       "1             1257.522820   7460  \n",
       "2              134.897706   8048  \n",
       "3            -1933.006179   4510  \n",
       "4           -29635.386235  13062  "
      ]
     },
     "execution_count": 57,
     "metadata": {},
     "output_type": "execute_result"
    }
   ],
   "source": [
    "# Create a new Dataframe for training set (for the 10 principal components with target)\n",
    "X_train_reindex = X_train.reset_index(drop=True)\n",
    "principalComponents_train = pca.transform(X_train_reindex)\n",
    "principalDf = pd.DataFrame(data = principalComponents_train\n",
    "             , columns = ['principal component 1', 'principal component 2', 'principal component 3',\n",
    "                         'principal component 4', 'principal component 5', 'principal component 6',\n",
    "                         'principal component 7', 'principal component 8', 'principal component 9',\n",
    "                         'principal component 10'])\n",
    "\n",
    "# Concatenating DataFrame along axis = 1. final_df_train is the final DataFrame of training set\n",
    "y_train_reindex = y_train.reset_index(drop=True)\n",
    "final_df_train = pd.concat([principalDf, y_train_reindex], axis = 1)\n",
    "final_df_train.head()"
   ]
  },
  {
   "cell_type": "markdown",
   "metadata": {},
   "source": [
    "### 3.2.2. Save the data train in a csv file"
   ]
  },
  {
   "cell_type": "code",
   "execution_count": 58,
   "metadata": {},
   "outputs": [],
   "source": [
    "# Save the data train in a csv file\n",
    "path = \"data/\"\n",
    "final_df_train.to_csv(path+\"df_train_out.csv\")"
   ]
  },
  {
   "cell_type": "markdown",
   "metadata": {},
   "source": [
    "### 3.2.3. Create a new dataframe for Test set (PCA)"
   ]
  },
  {
   "cell_type": "code",
   "execution_count": 63,
   "metadata": {},
   "outputs": [
    {
     "data": {
      "text/html": [
       "<div>\n",
       "<style scoped>\n",
       "    .dataframe tbody tr th:only-of-type {\n",
       "        vertical-align: middle;\n",
       "    }\n",
       "\n",
       "    .dataframe tbody tr th {\n",
       "        vertical-align: top;\n",
       "    }\n",
       "\n",
       "    .dataframe thead th {\n",
       "        text-align: right;\n",
       "    }\n",
       "</style>\n",
       "<table border=\"1\" class=\"dataframe\">\n",
       "  <thead>\n",
       "    <tr style=\"text-align: right;\">\n",
       "      <th></th>\n",
       "      <th>principal component 1</th>\n",
       "      <th>principal component 2</th>\n",
       "      <th>principal component 3</th>\n",
       "      <th>principal component 4</th>\n",
       "      <th>principal component 5</th>\n",
       "      <th>principal component 6</th>\n",
       "      <th>principal component 7</th>\n",
       "      <th>principal component 8</th>\n",
       "      <th>principal component 9</th>\n",
       "      <th>principal component 10</th>\n",
       "      <th>kwh</th>\n",
       "    </tr>\n",
       "  </thead>\n",
       "  <tbody>\n",
       "    <tr>\n",
       "      <th>0</th>\n",
       "      <td>-7082.624158</td>\n",
       "      <td>62806.677344</td>\n",
       "      <td>3426.098071</td>\n",
       "      <td>88687.495260</td>\n",
       "      <td>34433.722502</td>\n",
       "      <td>23025.490116</td>\n",
       "      <td>-2913.322464</td>\n",
       "      <td>-3329.052389</td>\n",
       "      <td>-6280.628412</td>\n",
       "      <td>-5982.627884</td>\n",
       "      <td>11486</td>\n",
       "    </tr>\n",
       "    <tr>\n",
       "      <th>1</th>\n",
       "      <td>-81250.244342</td>\n",
       "      <td>-5418.177198</td>\n",
       "      <td>-2675.934767</td>\n",
       "      <td>1010.675723</td>\n",
       "      <td>3951.845636</td>\n",
       "      <td>-6329.488403</td>\n",
       "      <td>2745.819163</td>\n",
       "      <td>-4616.033222</td>\n",
       "      <td>2283.915194</td>\n",
       "      <td>1309.382732</td>\n",
       "      <td>10604</td>\n",
       "    </tr>\n",
       "    <tr>\n",
       "      <th>2</th>\n",
       "      <td>45321.211106</td>\n",
       "      <td>-2552.171582</td>\n",
       "      <td>-17824.864791</td>\n",
       "      <td>-7841.476108</td>\n",
       "      <td>-4357.864113</td>\n",
       "      <td>4400.598150</td>\n",
       "      <td>-16385.720246</td>\n",
       "      <td>2116.096809</td>\n",
       "      <td>-1899.301756</td>\n",
       "      <td>2107.390593</td>\n",
       "      <td>14658</td>\n",
       "    </tr>\n",
       "    <tr>\n",
       "      <th>3</th>\n",
       "      <td>-67272.414637</td>\n",
       "      <td>-9063.048115</td>\n",
       "      <td>-6640.376818</td>\n",
       "      <td>-4384.200719</td>\n",
       "      <td>-3080.645749</td>\n",
       "      <td>7473.793494</td>\n",
       "      <td>2019.241854</td>\n",
       "      <td>-2538.368979</td>\n",
       "      <td>-1678.640705</td>\n",
       "      <td>3501.380117</td>\n",
       "      <td>9555</td>\n",
       "    </tr>\n",
       "    <tr>\n",
       "      <th>4</th>\n",
       "      <td>-68284.463582</td>\n",
       "      <td>12600.520907</td>\n",
       "      <td>-16477.496071</td>\n",
       "      <td>-2680.738177</td>\n",
       "      <td>-9229.079695</td>\n",
       "      <td>-8620.936201</td>\n",
       "      <td>-1783.415529</td>\n",
       "      <td>3221.275685</td>\n",
       "      <td>4855.357096</td>\n",
       "      <td>-1609.298970</td>\n",
       "      <td>15845</td>\n",
       "    </tr>\n",
       "  </tbody>\n",
       "</table>\n",
       "</div>"
      ],
      "text/plain": [
       "   principal component 1  principal component 2  principal component 3  \\\n",
       "0           -7082.624158           62806.677344            3426.098071   \n",
       "1          -81250.244342           -5418.177198           -2675.934767   \n",
       "2           45321.211106           -2552.171582          -17824.864791   \n",
       "3          -67272.414637           -9063.048115           -6640.376818   \n",
       "4          -68284.463582           12600.520907          -16477.496071   \n",
       "\n",
       "   principal component 4  principal component 5  principal component 6  \\\n",
       "0           88687.495260           34433.722502           23025.490116   \n",
       "1            1010.675723            3951.845636           -6329.488403   \n",
       "2           -7841.476108           -4357.864113            4400.598150   \n",
       "3           -4384.200719           -3080.645749            7473.793494   \n",
       "4           -2680.738177           -9229.079695           -8620.936201   \n",
       "\n",
       "   principal component 7  principal component 8  principal component 9  \\\n",
       "0           -2913.322464           -3329.052389           -6280.628412   \n",
       "1            2745.819163           -4616.033222            2283.915194   \n",
       "2          -16385.720246            2116.096809           -1899.301756   \n",
       "3            2019.241854           -2538.368979           -1678.640705   \n",
       "4           -1783.415529            3221.275685            4855.357096   \n",
       "\n",
       "   principal component 10    kwh  \n",
       "0            -5982.627884  11486  \n",
       "1             1309.382732  10604  \n",
       "2             2107.390593  14658  \n",
       "3             3501.380117   9555  \n",
       "4            -1609.298970  15845  "
      ]
     },
     "execution_count": 63,
     "metadata": {},
     "output_type": "execute_result"
    }
   ],
   "source": [
    "# Create a new Dataframe for test set (for the 10 principal components with target)\n",
    "X_test_reindex = X_test.reset_index(drop=True)\n",
    "principalComponents_test = pca.transform(X_test_reindex)\n",
    "principalDf_test = pd.DataFrame(data = principalComponents_test\n",
    "             , columns = ['principal component 1', 'principal component 2', 'principal component 3',\n",
    "                         'principal component 4', 'principal component 5', 'principal component 6',\n",
    "                         'principal component 7', 'principal component 8', 'principal component 9',\n",
    "                         'principal component 10'])\n",
    "\n",
    "# Concatenating DataFrame along axis = 1. final_df_test is the final DataFrame of test set\n",
    "y_test_reindex = y_test.reset_index(drop=True)\n",
    "final_df_test = pd.concat([principalDf_test, y_test_reindex], axis = 1)\n",
    "final_df_test.head()"
   ]
  },
  {
   "cell_type": "code",
   "execution_count": 64,
   "metadata": {},
   "outputs": [
    {
     "data": {
      "text/plain": [
       "principal component 1     0\n",
       "principal component 2     0\n",
       "principal component 3     0\n",
       "principal component 4     0\n",
       "principal component 5     0\n",
       "principal component 6     0\n",
       "principal component 7     0\n",
       "principal component 8     0\n",
       "principal component 9     0\n",
       "principal component 10    0\n",
       "kwh                       0\n",
       "dtype: int64"
      ]
     },
     "execution_count": 64,
     "metadata": {},
     "output_type": "execute_result"
    }
   ],
   "source": [
    "final_df_test.isnull().sum()"
   ]
  },
  {
   "cell_type": "markdown",
   "metadata": {},
   "source": [
    "### 3.2.4. Save the data test in a csv file"
   ]
  },
  {
   "cell_type": "code",
   "execution_count": 65,
   "metadata": {},
   "outputs": [],
   "source": [
    "# Save the data test in a csv file\n",
    "path = \"data/\"\n",
    "final_df_test.to_csv(path+\"df_test_out.csv\")"
   ]
  },
  {
   "cell_type": "markdown",
   "metadata": {},
   "source": [
    "# 4. Conclusion\n",
    "\n",
    "In this notebook, we have dealt with the incorrect values of two features and we have applied OneHotEncoder to the categorical features, as well as, discovering the importance of features by using ExtraTreesRegressor method. In addition, we applied the PCA method to reduce the dimensionality and deal with highly correlated variables. At the end, a cleaned train and test data is saved as csv files for the development of ML models."
   ]
  },
  {
   "cell_type": "code",
   "execution_count": null,
   "metadata": {},
   "outputs": [],
   "source": []
  }
 ],
 "metadata": {
  "kernelspec": {
   "display_name": "Python 3",
   "language": "python",
   "name": "python3"
  },
  "language_info": {
   "codemirror_mode": {
    "name": "ipython",
    "version": 3
   },
   "file_extension": ".py",
   "mimetype": "text/x-python",
   "name": "python",
   "nbconvert_exporter": "python",
   "pygments_lexer": "ipython3",
   "version": "3.8.5"
  }
 },
 "nbformat": 4,
 "nbformat_minor": 4
}
