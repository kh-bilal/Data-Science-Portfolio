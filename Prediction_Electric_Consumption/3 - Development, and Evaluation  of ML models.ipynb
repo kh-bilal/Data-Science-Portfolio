{
 "cells": [
  {
   "cell_type": "markdown",
   "metadata": {},
   "source": [
    "## Development, and Evaluation  of ML models\n",
    "\n",
    "Because we are dealing with a critical electricity consumption (KWH) problem, we need a model with high performance. Here, I am going to try 4 machine learning algorithms, with the aim of finding the machine learning algorithm that works best. In addition, we will perform a precision comparison between the ML models using several metrics for the final choice. Since the project is a regression problem, the algorithms that we will choose are the following:\n",
    "\n",
    "* K-Nearest Neighbor Regressor (KNN), Random Forest Regressor (RF), XGBoost Regressor (XGB), Linear Regression (LR)\n",
    "\n",
    "### Development of ML model life cycle\n",
    "\n",
    "#### 1. Load cleaned data (train and test)\n",
    "#### 2. Development and evaluation of ML models\n",
    "$\\;\\;$ 2.1 K-Nearest Neighbor (KNN)<br>\n",
    "$\\;\\;$ 2.2 Random Forest Regressor (RF)<br>\n",
    "$\\;\\;$ 2.3 XGBoost Regressor (XGB)<br>\n",
    "$\\;\\;$ 2.4 Linear Regression (LR)<br>\n",
    "#### 3. Comparison between ML models on the test set and train set (cross validation) \n",
    "#### 4. Hyperparametres tuning\n",
    "#### 5. Conclusion"
   ]
  },
  {
   "cell_type": "code",
   "execution_count": 1,
   "metadata": {},
   "outputs": [],
   "source": [
    "# Importing the libraries \n",
    "import pandas as pd\n",
    "import numpy as np\n",
    "import matplotlib.pyplot as plt\n",
    "import seaborn as sns\n",
    "%matplotlib inline\n",
    "import warnings\n",
    "warnings.filterwarnings('ignore')\n",
    "from sklearn.neighbors import KNeighborsRegressor\n",
    "from sklearn.ensemble import RandomForestRegressor\n",
    "from sklearn.linear_model import LinearRegression\n",
    "from xgboost import XGBRegressor\n",
    "from sklearn import metrics\n",
    "from datetime import datetime\n",
    "from sklearn.model_selection import cross_val_score\n",
    "from sklearn.model_selection import KFold"
   ]
  },
  {
   "cell_type": "markdown",
   "metadata": {},
   "source": [
    "## 1. Load cleaned data (train and test)"
   ]
  },
  {
   "cell_type": "code",
   "execution_count": 2,
   "metadata": {},
   "outputs": [],
   "source": [
    "# load train and test data \n",
    "\n",
    "# Train data\n",
    "path = \"data/\"\n",
    "final_df_train = pd.read_csv(path+\"df_train_out.csv\")\n",
    "X_train = final_df_train.drop(columns = [\"kwh\"], axis=1)\n",
    "y_train = final_df_train.kwh\n",
    "\n",
    "# Test data\n",
    "path = \"data/\"\n",
    "final_df_test = pd.read_csv(path+\"df_test_out.csv\")\n",
    "X_test = final_df_test.drop(columns = [\"kwh\"], axis=1)\n",
    "y_test = final_df_test.kwh"
   ]
  },
  {
   "cell_type": "markdown",
   "metadata": {},
   "source": [
    "## 2. Development and evaluation of ML models"
   ]
  },
  {
   "cell_type": "code",
   "execution_count": 3,
   "metadata": {},
   "outputs": [],
   "source": [
    "# Timer function\n",
    "def timer(start_time=None):\n",
    "    if not start_time:\n",
    "        start_time = datetime.now()\n",
    "        return start_time\n",
    "    elif start_time:\n",
    "        thour, temp_sec = divmod((datetime.now() - start_time).total_seconds(), 3600)\n",
    "        tmin, tsec = divmod(temp_sec, 60)\n",
    "        time = str(round(thour, 2))+\":\"+str(round(tmin, 2))+\":\"+str(round(tsec, 2))\n",
    "        print('Time taken: %i hours %i minutes et %s seconds.' % (thour, tmin, round(tsec, 4)),\"\\n\")\n",
    "    return time   "
   ]
  },
  {
   "cell_type": "code",
   "execution_count": 4,
   "metadata": {},
   "outputs": [],
   "source": [
    "# Metrics calculation function\n",
    "def print_metrics(y_test,y_pred):\n",
    "    print('Results of the evaluation of model with different Measures on test set:',\"\\n\")\n",
    "    mae = np.round(metrics.mean_absolute_error(y_test, y_pred), 3)\n",
    "    print('MAE:', mae)\n",
    "    rmse = np.round(np.sqrt(metrics.mean_squared_error(y_test, y_pred)), 3)\n",
    "    print('RMSE:', rmse)\n",
    "    mesdian_abs = np.round(metrics.median_absolute_error(y_test, y_pred), 3)\n",
    "    print('Median ABS Error:', mesdian_abs)\n",
    "    r2_score_test = np.round(metrics.r2_score(y_test,y_pred), 3)\n",
    "    print('R2 (score):', r2_score_test)\n",
    "    return mae, rmse, mesdian_abs, r2_score_test "
   ]
  },
  {
   "cell_type": "code",
   "execution_count": 5,
   "metadata": {},
   "outputs": [],
   "source": [
    "# Function for running models and Metrics calculation\n",
    "def run_model(model, X_train, y_train, X_test, y_test):\n",
    "    start_time = timer(None) # the train timer starts from this point\n",
    "    model.fit(X_train, y_train)\n",
    "    print(\"Training:\",\"\\n\")\n",
    "    time_train = timer(start_time) # the train timer ends here \n",
    "    \n",
    "    # Cross validation on train data set \n",
    "    kf = KFold(n_splits=5, random_state=None)\n",
    "    r2_mean_cv = (cross_val_score(model , X_train, y_train, scoring=\"r2\", cv = kf)).mean()\n",
    "    print(\"Avg of R2 (score) based on Cross Validation with 5 folder for train set:\", np.round(r2_mean_cv,3),\"\\n\")\n",
    "    \n",
    "    print(\"=\"*80)\n",
    "    start_time = timer(None) # the test timer starts from this point\n",
    "    y_pred = model.predict(X_test)\n",
    "    print(\"Test:\",\"\\n\")\n",
    "    time_test = timer(start_time) # the test timer ends here\n",
    "    \n",
    "    mae, rmse, mesdian_abs, r2_score_test  = print_metrics(y_test,y_pred)\n",
    "    return mae, rmse, mesdian_abs, r2_score_test, r2_mean_cv, y_pred, model"
   ]
  },
  {
   "cell_type": "markdown",
   "metadata": {},
   "source": [
    "### 2.1 K-Nearest Neighbor"
   ]
  },
  {
   "cell_type": "code",
   "execution_count": 6,
   "metadata": {},
   "outputs": [
    {
     "name": "stdout",
     "output_type": "stream",
     "text": [
      "Training: \n",
      "\n",
      "Time taken: 0 hours 0 minutes et 0.0122 seconds. \n",
      "\n",
      "Avg of R2 (score) based on Cross Validation with 5 folder for train set: 0.947 \n",
      "\n",
      "================================================================================\n",
      "Test: \n",
      "\n",
      "Time taken: 0 hours 0 minutes et 0.0237 seconds. \n",
      "\n",
      "Results of the evaluation of model with different Measures on test set: \n",
      "\n",
      "MAE: 663.049\n",
      "RMSE: 1191.641\n",
      "Median ABS Error: 380.5\n",
      "R2 (score): 0.972\n",
      "\n",
      " ================================================================================\n",
      "Comparison between the predicted and the actual consumption (KWH):\n"
     ]
    },
    {
     "data": {
      "text/html": [
       "<div>\n",
       "<style scoped>\n",
       "    .dataframe tbody tr th:only-of-type {\n",
       "        vertical-align: middle;\n",
       "    }\n",
       "\n",
       "    .dataframe tbody tr th {\n",
       "        vertical-align: top;\n",
       "    }\n",
       "\n",
       "    .dataframe thead th {\n",
       "        text-align: right;\n",
       "    }\n",
       "</style>\n",
       "<table border=\"1\" class=\"dataframe\">\n",
       "  <thead>\n",
       "    <tr style=\"text-align: right;\">\n",
       "      <th></th>\n",
       "      <th>Actual</th>\n",
       "      <th>Predicted</th>\n",
       "    </tr>\n",
       "  </thead>\n",
       "  <tbody>\n",
       "    <tr>\n",
       "      <th>0</th>\n",
       "      <td>11486</td>\n",
       "      <td>10846.0</td>\n",
       "    </tr>\n",
       "    <tr>\n",
       "      <th>1</th>\n",
       "      <td>10604</td>\n",
       "      <td>9854.0</td>\n",
       "    </tr>\n",
       "    <tr>\n",
       "      <th>2</th>\n",
       "      <td>14658</td>\n",
       "      <td>14490.0</td>\n",
       "    </tr>\n",
       "    <tr>\n",
       "      <th>3</th>\n",
       "      <td>9555</td>\n",
       "      <td>9201.0</td>\n",
       "    </tr>\n",
       "    <tr>\n",
       "      <th>4</th>\n",
       "      <td>15845</td>\n",
       "      <td>15842.0</td>\n",
       "    </tr>\n",
       "  </tbody>\n",
       "</table>\n",
       "</div>"
      ],
      "text/plain": [
       "   Actual  Predicted\n",
       "0   11486    10846.0\n",
       "1   10604     9854.0\n",
       "2   14658    14490.0\n",
       "3    9555     9201.0\n",
       "4   15845    15842.0"
      ]
     },
     "execution_count": 6,
     "metadata": {},
     "output_type": "execute_result"
    },
    {
     "data": {
      "image/png": "[encoded data removed]",
      "text/plain": [
       "<Figure size 432x288 with 1 Axes>"
      ]
     },
     "metadata": {
      "needs_background": "light"
     },
     "output_type": "display_data"
    }
   ],
   "source": [
    "# K-Nearest Neighbor\n",
    "KNN_mae, KNN_rmse, KNN_mesdian_abs, KNN_r2_score_test, KNN_r2_mean_cv, KNN_y_pred, KNN_model = run_model(KNeighborsRegressor(n_neighbors=2),\n",
    "                                                                     X_train, y_train, X_test, y_test)\n",
    "print(\"\\n\",\"=\"*80)\n",
    "sns.regplot(x=y_test,y=KNN_y_pred,fit_reg=True)\n",
    "\n",
    "# Comparison between the predicted and the actual consumption (KWH)\n",
    "print(\"Comparison between the predicted and the actual consumption (KWH):\")\n",
    "df_res = pd.DataFrame({'Actual': np.round(y_test, 0), 'Predicted': np.round(KNN_y_pred, 0)})\n",
    "df_res.head(5)"
   ]
  },
  {
   "cell_type": "markdown",
   "metadata": {},
   "source": [
    "### 2.2 Random Forest Regressor"
   ]
  },
  {
   "cell_type": "code",
   "execution_count": 7,
   "metadata": {},
   "outputs": [
    {
     "name": "stdout",
     "output_type": "stream",
     "text": [
      "Training: \n",
      "\n",
      "Time taken: 0 hours 0 minutes et 5.4463 seconds. \n",
      "\n",
      "Avg of R2 (score) based on Cross Validation with 5 folder for train set: 0.971 \n",
      "\n",
      "================================================================================\n",
      "Test: \n",
      "\n",
      "Time taken: 0 hours 0 minutes et 0.0414 seconds. \n",
      "\n",
      "Results of the evaluation of model with different Measures on test set: \n",
      "\n",
      "MAE: 452.659\n",
      "RMSE: 1024.258\n",
      "Median ABS Error: 200.39\n",
      "R2 (score): 0.979\n",
      "\n",
      " ================================================================================\n",
      "Comparison between the predicted and the actual consumption (KWH)\n"
     ]
    },
    {
     "data": {
      "text/html": [
       "<div>\n",
       "<style scoped>\n",
       "    .dataframe tbody tr th:only-of-type {\n",
       "        vertical-align: middle;\n",
       "    }\n",
       "\n",
       "    .dataframe tbody tr th {\n",
       "        vertical-align: top;\n",
       "    }\n",
       "\n",
       "    .dataframe thead th {\n",
       "        text-align: right;\n",
       "    }\n",
       "</style>\n",
       "<table border=\"1\" class=\"dataframe\">\n",
       "  <thead>\n",
       "    <tr style=\"text-align: right;\">\n",
       "      <th></th>\n",
       "      <th>Actual</th>\n",
       "      <th>Predicted</th>\n",
       "    </tr>\n",
       "  </thead>\n",
       "  <tbody>\n",
       "    <tr>\n",
       "      <th>0</th>\n",
       "      <td>11486</td>\n",
       "      <td>11226.0</td>\n",
       "    </tr>\n",
       "    <tr>\n",
       "      <th>1</th>\n",
       "      <td>10604</td>\n",
       "      <td>10660.0</td>\n",
       "    </tr>\n",
       "    <tr>\n",
       "      <th>2</th>\n",
       "      <td>14658</td>\n",
       "      <td>13621.0</td>\n",
       "    </tr>\n",
       "    <tr>\n",
       "      <th>3</th>\n",
       "      <td>9555</td>\n",
       "      <td>9576.0</td>\n",
       "    </tr>\n",
       "    <tr>\n",
       "      <th>4</th>\n",
       "      <td>15845</td>\n",
       "      <td>15923.0</td>\n",
       "    </tr>\n",
       "  </tbody>\n",
       "</table>\n",
       "</div>"
      ],
      "text/plain": [
       "   Actual  Predicted\n",
       "0   11486    11226.0\n",
       "1   10604    10660.0\n",
       "2   14658    13621.0\n",
       "3    9555     9576.0\n",
       "4   15845    15923.0"
      ]
     },
     "execution_count": 7,
     "metadata": {},
     "output_type": "execute_result"
    },
    {
     "data": {
      "image/png": "[encoded data removed]",
      "text/plain": [
       "<Figure size 432x288 with 1 Axes>"
      ]
     },
     "metadata": {
      "needs_background": "light"
     },
     "output_type": "display_data"
    }
   ],
   "source": [
    "# RandomForestRegressor\n",
    "RF_mae, RF_rmse, RF_mesdian_abs, RF_r2_score_test, RF_r2_mean_cv, RF_y_pred, RF_model = run_model(RandomForestRegressor(random_state = 42),\n",
    "                                                                     X_train, y_train, X_test, y_test)\n",
    "\n",
    "print(\"\\n\",\"=\"*80)\n",
    "sns.regplot(x=y_test,y=RF_y_pred,fit_reg=True)\n",
    "\n",
    "# Comparison between the predicted and the actual consumption (KWH)\n",
    "print(\"Comparison between the predicted and the actual consumption (KWH)\")\n",
    "df_res = pd.DataFrame({'Actual': np.round(y_test, 0), 'Predicted': np.round(RF_y_pred, 0)})\n",
    "df_res.head(5)"
   ]
  },
  {
   "cell_type": "markdown",
   "metadata": {},
   "source": [
    "### 2.3 XGBoost Regressor"
   ]
  },
  {
   "cell_type": "code",
   "execution_count": 8,
   "metadata": {},
   "outputs": [
    {
     "name": "stdout",
     "output_type": "stream",
     "text": [
      "Training: \n",
      "\n",
      "Time taken: 0 hours 0 minutes et 0.3708 seconds. \n",
      "\n",
      "Avg of R2 (score) based on Cross Validation with 5 folder for train set: 0.967 \n",
      "\n",
      "================================================================================\n",
      "Test: \n",
      "\n",
      "Time taken: 0 hours 0 minutes et 0.0015 seconds. \n",
      "\n",
      "Results of the evaluation of model with different Measures on test set: \n",
      "\n",
      "MAE: 448.705\n",
      "RMSE: 962.753\n",
      "Median ABS Error: 263.807\n",
      "R2 (score): 0.982\n",
      "\n",
      " ================================================================================\n",
      "Comparison between the predicted and the actual consumption (KWH)\n"
     ]
    },
    {
     "data": {
      "text/html": [
       "<div>\n",
       "<style scoped>\n",
       "    .dataframe tbody tr th:only-of-type {\n",
       "        vertical-align: middle;\n",
       "    }\n",
       "\n",
       "    .dataframe tbody tr th {\n",
       "        vertical-align: top;\n",
       "    }\n",
       "\n",
       "    .dataframe thead th {\n",
       "        text-align: right;\n",
       "    }\n",
       "</style>\n",
       "<table border=\"1\" class=\"dataframe\">\n",
       "  <thead>\n",
       "    <tr style=\"text-align: right;\">\n",
       "      <th></th>\n",
       "      <th>Actual</th>\n",
       "      <th>Predicted</th>\n",
       "    </tr>\n",
       "  </thead>\n",
       "  <tbody>\n",
       "    <tr>\n",
       "      <th>0</th>\n",
       "      <td>11486</td>\n",
       "      <td>11030.0</td>\n",
       "    </tr>\n",
       "    <tr>\n",
       "      <th>1</th>\n",
       "      <td>10604</td>\n",
       "      <td>10325.0</td>\n",
       "    </tr>\n",
       "    <tr>\n",
       "      <th>2</th>\n",
       "      <td>14658</td>\n",
       "      <td>14566.0</td>\n",
       "    </tr>\n",
       "    <tr>\n",
       "      <th>3</th>\n",
       "      <td>9555</td>\n",
       "      <td>10109.0</td>\n",
       "    </tr>\n",
       "    <tr>\n",
       "      <th>4</th>\n",
       "      <td>15845</td>\n",
       "      <td>15845.0</td>\n",
       "    </tr>\n",
       "  </tbody>\n",
       "</table>\n",
       "</div>"
      ],
      "text/plain": [
       "   Actual  Predicted\n",
       "0   11486    11030.0\n",
       "1   10604    10325.0\n",
       "2   14658    14566.0\n",
       "3    9555    10109.0\n",
       "4   15845    15845.0"
      ]
     },
     "execution_count": 8,
     "metadata": {},
     "output_type": "execute_result"
    },
    {
     "data": {
      "image/png": "[encoded data removed]",
      "text/plain": [
       "<Figure size 432x288 with 1 Axes>"
      ]
     },
     "metadata": {
      "needs_background": "light"
     },
     "output_type": "display_data"
    }
   ],
   "source": [
    "# XGBoost Regressor\n",
    "XGB_mae, XGB_rmse, XGB_mesdian_abs, XGB_r2_score_test, XGB_r2_mean_cv, XGB_y_pred, XGB_model = run_model(XGBRegressor(),\n",
    "                                                                     X_train, y_train, X_test, y_test)\n",
    "\n",
    "print(\"\\n\",\"=\"*80)\n",
    "sns.regplot(x=y_test,y=XGB_y_pred,fit_reg=True)\n",
    "\n",
    "# Comparison between the predicted and the actual consumption (KWH)\n",
    "print(\"Comparison between the predicted and the actual consumption (KWH)\")\n",
    "df_res = pd.DataFrame({'Actual': np.round(y_test, 0), 'Predicted': np.round(XGB_y_pred, 0)})\n",
    "df_res.head(5)"
   ]
  },
  {
   "cell_type": "markdown",
   "metadata": {},
   "source": [
    "### 2.4 Linear Regression"
   ]
  },
  {
   "cell_type": "code",
   "execution_count": 9,
   "metadata": {},
   "outputs": [
    {
     "name": "stdout",
     "output_type": "stream",
     "text": [
      "Training: \n",
      "\n",
      "Time taken: 0 hours 0 minutes et 0.0024 seconds. \n",
      "\n",
      "Avg of R2 (score) based on Cross Validation with 5 folder for train set: 0.999 \n",
      "\n",
      "================================================================================\n",
      "Test: \n",
      "\n",
      "Time taken: 0 hours 0 minutes et 0.0011 seconds. \n",
      "\n",
      "Results of the evaluation of model with different Measures on test set: \n",
      "\n",
      "MAE: 79.881\n",
      "RMSE: 224.436\n",
      "Median ABS Error: 46.107\n",
      "R2 (score): 0.999\n",
      "\n",
      " ================================================================================\n",
      "Comparison between the predicted and the actual consumption (KWH)\n"
     ]
    },
    {
     "data": {
      "text/html": [
       "<div>\n",
       "<style scoped>\n",
       "    .dataframe tbody tr th:only-of-type {\n",
       "        vertical-align: middle;\n",
       "    }\n",
       "\n",
       "    .dataframe tbody tr th {\n",
       "        vertical-align: top;\n",
       "    }\n",
       "\n",
       "    .dataframe thead th {\n",
       "        text-align: right;\n",
       "    }\n",
       "</style>\n",
       "<table border=\"1\" class=\"dataframe\">\n",
       "  <thead>\n",
       "    <tr style=\"text-align: right;\">\n",
       "      <th></th>\n",
       "      <th>Actual</th>\n",
       "      <th>Predicted</th>\n",
       "    </tr>\n",
       "  </thead>\n",
       "  <tbody>\n",
       "    <tr>\n",
       "      <th>0</th>\n",
       "      <td>11486</td>\n",
       "      <td>11487.0</td>\n",
       "    </tr>\n",
       "    <tr>\n",
       "      <th>1</th>\n",
       "      <td>10604</td>\n",
       "      <td>10563.0</td>\n",
       "    </tr>\n",
       "    <tr>\n",
       "      <th>2</th>\n",
       "      <td>14658</td>\n",
       "      <td>14464.0</td>\n",
       "    </tr>\n",
       "    <tr>\n",
       "      <th>3</th>\n",
       "      <td>9555</td>\n",
       "      <td>9533.0</td>\n",
       "    </tr>\n",
       "    <tr>\n",
       "      <th>4</th>\n",
       "      <td>15845</td>\n",
       "      <td>15828.0</td>\n",
       "    </tr>\n",
       "  </tbody>\n",
       "</table>\n",
       "</div>"
      ],
      "text/plain": [
       "   Actual  Predicted\n",
       "0   11486    11487.0\n",
       "1   10604    10563.0\n",
       "2   14658    14464.0\n",
       "3    9555     9533.0\n",
       "4   15845    15828.0"
      ]
     },
     "execution_count": 9,
     "metadata": {},
     "output_type": "execute_result"
    },
    {
     "data": {
      "image/png": "[encoded data removed]",
      "text/plain": [
       "<Figure size 432x288 with 1 Axes>"
      ]
     },
     "metadata": {
      "needs_background": "light"
     },
     "output_type": "display_data"
    }
   ],
   "source": [
    "# Linear Regression\n",
    "LR_mae, LR_rmse, LR_mesdian_abs, LR_r2_score_test, LR_r2_mean_cv, LR_y_pred, LR_model = run_model(LinearRegression(),\n",
    "                                                                     X_train, y_train, X_test, y_test)\n",
    "\n",
    "print(\"\\n\",\"=\"*80)\n",
    "sns.regplot(x=y_test,y=LR_y_pred,fit_reg=True)\n",
    "\n",
    "# Comparison between the predicted and the actual consumption (KWH)\n",
    "print(\"Comparison between the predicted and the actual consumption (KWH)\")\n",
    "df_res = pd.DataFrame({'Actual': np.round(y_test, 0), 'Predicted': np.round(LR_y_pred, 0)})\n",
    "df_res.head(5)"
   ]
  },
  {
   "cell_type": "markdown",
   "metadata": {},
   "source": [
    "## 3. Comparison between ML models on the test set and train set (cross validation) "
   ]
  },
  {
   "cell_type": "code",
   "execution_count": 10,
   "metadata": {},
   "outputs": [
    {
     "data": {
      "text/html": [
       "<div>\n",
       "<style scoped>\n",
       "    .dataframe tbody tr th:only-of-type {\n",
       "        vertical-align: middle;\n",
       "    }\n",
       "\n",
       "    .dataframe tbody tr th {\n",
       "        vertical-align: top;\n",
       "    }\n",
       "\n",
       "    .dataframe thead th {\n",
       "        text-align: right;\n",
       "    }\n",
       "</style>\n",
       "<table border=\"1\" class=\"dataframe\">\n",
       "  <thead>\n",
       "    <tr style=\"text-align: right;\">\n",
       "      <th></th>\n",
       "      <th>f2_score_train_CV</th>\n",
       "      <th>f2_score_test</th>\n",
       "      <th>RMSE</th>\n",
       "      <th>MAE</th>\n",
       "      <th>Median_ABS_Error</th>\n",
       "    </tr>\n",
       "  </thead>\n",
       "  <tbody>\n",
       "    <tr>\n",
       "      <th>K-Nearest Neighbor</th>\n",
       "      <td>0.946803</td>\n",
       "      <td>0.972</td>\n",
       "      <td>1191.641</td>\n",
       "      <td>663.049</td>\n",
       "      <td>380.500</td>\n",
       "    </tr>\n",
       "    <tr>\n",
       "      <th>Random Forest</th>\n",
       "      <td>0.970966</td>\n",
       "      <td>0.979</td>\n",
       "      <td>1024.258</td>\n",
       "      <td>452.659</td>\n",
       "      <td>200.390</td>\n",
       "    </tr>\n",
       "    <tr>\n",
       "      <th>XGBoost</th>\n",
       "      <td>0.967014</td>\n",
       "      <td>0.982</td>\n",
       "      <td>962.753</td>\n",
       "      <td>962.753</td>\n",
       "      <td>263.807</td>\n",
       "    </tr>\n",
       "    <tr>\n",
       "      <th>Linear Regression</th>\n",
       "      <td>0.999330</td>\n",
       "      <td>0.999</td>\n",
       "      <td>224.436</td>\n",
       "      <td>79.881</td>\n",
       "      <td>46.107</td>\n",
       "    </tr>\n",
       "  </tbody>\n",
       "</table>\n",
       "</div>"
      ],
      "text/plain": [
       "                    f2_score_train_CV  f2_score_test      RMSE      MAE  \\\n",
       "K-Nearest Neighbor           0.946803          0.972  1191.641  663.049   \n",
       "Random Forest                0.970966          0.979  1024.258  452.659   \n",
       "XGBoost                      0.967014          0.982   962.753  962.753   \n",
       "Linear Regression            0.999330          0.999   224.436   79.881   \n",
       "\n",
       "                    Median_ABS_Error  \n",
       "K-Nearest Neighbor           380.500  \n",
       "Random Forest                200.390  \n",
       "XGBoost                      263.807  \n",
       "Linear Regression             46.107  "
      ]
     },
     "execution_count": 10,
     "metadata": {},
     "output_type": "execute_result"
    }
   ],
   "source": [
    "models = ['K-Nearest Neighbor', 'Random Forest', 'XGBoost', 'Linear Regression']\n",
    "f2_score_train = [KNN_r2_mean_cv, RF_r2_mean_cv, XGB_r2_mean_cv, LR_r2_mean_cv]\n",
    "f2_score_test = [KNN_r2_score_test, RF_r2_score_test, XGB_r2_score_test, LR_r2_score_test]\n",
    "RMSE = [KNN_rmse, RF_rmse, XGB_rmse, LR_rmse]\n",
    "MAE = [KNN_mae, RF_mae, XGB_rmse, LR_mae]\n",
    "Median_ABS_Error = [KNN_mesdian_abs, RF_mesdian_abs, XGB_mesdian_abs, LR_mesdian_abs]\n",
    "\n",
    "d = {'f2_score_train_CV': f2_score_train, 'f2_score_test': f2_score_test, 'RMSE': RMSE, 'MAE': MAE,\n",
    "     'Median_ABS_Error': Median_ABS_Error}\n",
    "df_metrics = pd.DataFrame(d, index = models)\n",
    "df_metrics"
   ]
  },
  {
   "cell_type": "markdown",
   "metadata": {},
   "source": [
    "As we can see, in the output above, Xgboost, and Linear Regression are performing well compared to the K-Nearest Neighbor, and Random Forest. The cross-validation score (f2_score_train) helps us to decide which model we should select and which we should not go with. \n",
    "\n",
    "Based on the average value of f2_score_train_CV, f2_score_test, MAE and RMSE from table, we can conclude that the **Linear Regression** is the best ML model, especially in term of variance \"**RMSE=224**\" compared to the other ML models (PS: RMSE is a good indicator of the variance of a ML model). In addition, The LR model is faster than the other ML algorithm (time for training = **0.0036 Seconds**, time for the test = **0.0011 Seconds**)"
   ]
  },
  {
   "cell_type": "markdown",
   "metadata": {},
   "source": [
    "## 4. Hyperparametres tuning\n",
    "\n",
    "We notice that the results found by all models are satisfying, especially the result found by linear regression algorithm (LR). However, there is a possibility to optimize ML models by tuning the hyperparameters through GridSearchCV or RandomizedSearchCV methods.\n",
    "We prefer to keep the models without hyperparameters tuning; in order to keep the workflow of the project simple. \n"
   ]
  },
  {
   "cell_type": "markdown",
   "metadata": {},
   "source": [
    "## 5. Conclusion\n",
    "\n",
    "In this project, we build a model that predicts the electric consumption (KWH) . After building several ML models, we have used the most efficient metrics for ML model performance which are the F2 Score, RMSE, MAE, Median ABS Error. From the obtained results, we notice that the XGBoost and LR models achieved the best score, But LR is faster than all ML models based on the computation time.\n",
    "\n",
    "In this project, the choice of algorithms is based on the input data. However, we are not limited by this 4 ML algorithms. \n",
    "\n",
    "k-Fold cross validation is used to test our algorithms on different parts of the train database. The f2 score is used in the process of cross validation to see the variation of our algorithm according to the change of the data."
   ]
  },
  {
   "cell_type": "code",
   "execution_count": null,
   "metadata": {},
   "outputs": [],
   "source": []
  }
 ],
 "metadata": {
  "kernelspec": {
   "display_name": "Python 3",
   "language": "python",
   "name": "python3"
  },
  "language_info": {
   "codemirror_mode": {
    "name": "ipython",
    "version": 3
   },
   "file_extension": ".py",
   "mimetype": "text/x-python",
   "name": "python",
   "nbconvert_exporter": "python",
   "pygments_lexer": "ipython3",
   "version": "3.8.5"
  }
 },
 "nbformat": 4,
 "nbformat_minor": 4
}
