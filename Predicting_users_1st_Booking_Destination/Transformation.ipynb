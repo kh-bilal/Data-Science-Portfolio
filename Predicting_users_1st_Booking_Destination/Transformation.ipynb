{
 "cells": [
  {
   "cell_type": "markdown",
   "metadata": {},
   "source": [
    "## Étape: 02 - Exploration et transformation de données ( Les utilisateurs d'Airbnb USA)"
   ]
  },
  {
   "cell_type": "markdown",
   "metadata": {},
   "source": [
    "En basant sur l'EDA et le rapport de profil, nous procédons à l'application de la transformation des données"
   ]
  },
  {
   "cell_type": "markdown",
   "metadata": {},
   "source": [
    "### Cycle de transformation de données\n",
    "\n",
    "> 1. Importer les bibliothèques et charger les données\n",
    "> 2. Conversion de type/format \n",
    "> 3. Remplacement de valeurs manquantes / Correction & Suppression de valeurs aberrantes\n",
    "> 4. Correction/Standardisation/Normalisation de données\n",
    "> 5. Appliquer les transformations effectuées sur les données de train sur les données de test "
   ]
  },
  {
   "cell_type": "markdown",
   "metadata": {},
   "source": [
    "## 1) Importer les bibliothèques et charger les données"
   ]
  },
  {
   "cell_type": "code",
   "execution_count": 1,
   "metadata": {},
   "outputs": [],
   "source": [
    "# Importer les Bibliothèques\n",
    "import numpy as np\n",
    "import pandas as pd \n",
    "import seaborn as sns\n",
    "import matplotlib.pyplot as plt \n",
    "%matplotlib inline\n",
    "import warnings\n",
    "warnings.filterwarnings(\"ignore\")"
   ]
  },
  {
   "cell_type": "code",
   "execution_count": 2,
   "metadata": {},
   "outputs": [
    {
     "data": {
      "text/html": [
       "<div>\n",
       "<style scoped>\n",
       "    .dataframe tbody tr th:only-of-type {\n",
       "        vertical-align: middle;\n",
       "    }\n",
       "\n",
       "    .dataframe tbody tr th {\n",
       "        vertical-align: top;\n",
       "    }\n",
       "\n",
       "    .dataframe thead th {\n",
       "        text-align: right;\n",
       "    }\n",
       "</style>\n",
       "<table border=\"1\" class=\"dataframe\">\n",
       "  <thead>\n",
       "    <tr style=\"text-align: right;\">\n",
       "      <th></th>\n",
       "      <th>id</th>\n",
       "      <th>date_account_created</th>\n",
       "      <th>timestamp_first_active</th>\n",
       "      <th>date_first_booking</th>\n",
       "      <th>gender</th>\n",
       "      <th>age</th>\n",
       "      <th>signup_method</th>\n",
       "      <th>signup_flow</th>\n",
       "      <th>language</th>\n",
       "      <th>affiliate_channel</th>\n",
       "      <th>affiliate_provider</th>\n",
       "      <th>first_affiliate_tracked</th>\n",
       "      <th>signup_app</th>\n",
       "      <th>first_device_type</th>\n",
       "      <th>first_browser</th>\n",
       "      <th>country_destination</th>\n",
       "    </tr>\n",
       "  </thead>\n",
       "  <tbody>\n",
       "    <tr>\n",
       "      <th>0</th>\n",
       "      <td>gxn3p5htnn</td>\n",
       "      <td>2010-06-28</td>\n",
       "      <td>20090319043255</td>\n",
       "      <td>NaN</td>\n",
       "      <td>-unknown-</td>\n",
       "      <td>NaN</td>\n",
       "      <td>facebook</td>\n",
       "      <td>0</td>\n",
       "      <td>en</td>\n",
       "      <td>direct</td>\n",
       "      <td>direct</td>\n",
       "      <td>untracked</td>\n",
       "      <td>Web</td>\n",
       "      <td>Mac Desktop</td>\n",
       "      <td>Chrome</td>\n",
       "      <td>NDF</td>\n",
       "    </tr>\n",
       "    <tr>\n",
       "      <th>1</th>\n",
       "      <td>820tgsjxq7</td>\n",
       "      <td>2011-05-25</td>\n",
       "      <td>20090523174809</td>\n",
       "      <td>NaN</td>\n",
       "      <td>MALE</td>\n",
       "      <td>38.0</td>\n",
       "      <td>facebook</td>\n",
       "      <td>0</td>\n",
       "      <td>en</td>\n",
       "      <td>seo</td>\n",
       "      <td>google</td>\n",
       "      <td>untracked</td>\n",
       "      <td>Web</td>\n",
       "      <td>Mac Desktop</td>\n",
       "      <td>Chrome</td>\n",
       "      <td>NDF</td>\n",
       "    </tr>\n",
       "    <tr>\n",
       "      <th>2</th>\n",
       "      <td>4ft3gnwmtx</td>\n",
       "      <td>2010-09-28</td>\n",
       "      <td>20090609231247</td>\n",
       "      <td>2010-08-02</td>\n",
       "      <td>FEMALE</td>\n",
       "      <td>56.0</td>\n",
       "      <td>basic</td>\n",
       "      <td>3</td>\n",
       "      <td>en</td>\n",
       "      <td>direct</td>\n",
       "      <td>direct</td>\n",
       "      <td>untracked</td>\n",
       "      <td>Web</td>\n",
       "      <td>Windows Desktop</td>\n",
       "      <td>IE</td>\n",
       "      <td>US</td>\n",
       "    </tr>\n",
       "    <tr>\n",
       "      <th>3</th>\n",
       "      <td>bjjt8pjhuk</td>\n",
       "      <td>2011-12-05</td>\n",
       "      <td>20091031060129</td>\n",
       "      <td>2012-09-08</td>\n",
       "      <td>FEMALE</td>\n",
       "      <td>42.0</td>\n",
       "      <td>facebook</td>\n",
       "      <td>0</td>\n",
       "      <td>en</td>\n",
       "      <td>direct</td>\n",
       "      <td>direct</td>\n",
       "      <td>untracked</td>\n",
       "      <td>Web</td>\n",
       "      <td>Mac Desktop</td>\n",
       "      <td>Firefox</td>\n",
       "      <td>other</td>\n",
       "    </tr>\n",
       "    <tr>\n",
       "      <th>4</th>\n",
       "      <td>87mebub9p4</td>\n",
       "      <td>2010-09-14</td>\n",
       "      <td>20091208061105</td>\n",
       "      <td>2010-02-18</td>\n",
       "      <td>-unknown-</td>\n",
       "      <td>41.0</td>\n",
       "      <td>basic</td>\n",
       "      <td>0</td>\n",
       "      <td>en</td>\n",
       "      <td>direct</td>\n",
       "      <td>direct</td>\n",
       "      <td>untracked</td>\n",
       "      <td>Web</td>\n",
       "      <td>Mac Desktop</td>\n",
       "      <td>Chrome</td>\n",
       "      <td>US</td>\n",
       "    </tr>\n",
       "  </tbody>\n",
       "</table>\n",
       "</div>"
      ],
      "text/plain": [
       "           id date_account_created  timestamp_first_active date_first_booking  \\\n",
       "0  gxn3p5htnn           2010-06-28          20090319043255                NaN   \n",
       "1  820tgsjxq7           2011-05-25          20090523174809                NaN   \n",
       "2  4ft3gnwmtx           2010-09-28          20090609231247         2010-08-02   \n",
       "3  bjjt8pjhuk           2011-12-05          20091031060129         2012-09-08   \n",
       "4  87mebub9p4           2010-09-14          20091208061105         2010-02-18   \n",
       "\n",
       "      gender   age signup_method  signup_flow language affiliate_channel  \\\n",
       "0  -unknown-   NaN      facebook            0       en            direct   \n",
       "1       MALE  38.0      facebook            0       en               seo   \n",
       "2     FEMALE  56.0         basic            3       en            direct   \n",
       "3     FEMALE  42.0      facebook            0       en            direct   \n",
       "4  -unknown-  41.0         basic            0       en            direct   \n",
       "\n",
       "  affiliate_provider first_affiliate_tracked signup_app first_device_type  \\\n",
       "0             direct               untracked        Web       Mac Desktop   \n",
       "1             google               untracked        Web       Mac Desktop   \n",
       "2             direct               untracked        Web   Windows Desktop   \n",
       "3             direct               untracked        Web       Mac Desktop   \n",
       "4             direct               untracked        Web       Mac Desktop   \n",
       "\n",
       "  first_browser country_destination  \n",
       "0        Chrome                 NDF  \n",
       "1        Chrome                 NDF  \n",
       "2            IE                  US  \n",
       "3       Firefox               other  \n",
       "4        Chrome                  US  "
      ]
     },
     "execution_count": 2,
     "metadata": {},
     "output_type": "execute_result"
    }
   ],
   "source": [
    "# description du projet\n",
    "# https://www.kaggle.com/c/airbnb-recruiting-new-user-bookings/data\n",
    "\n",
    "# lecture de la base données\n",
    "df_train = pd.read_csv('train_users_2 - train_users_2.csv')\n",
    "df_train.head()"
   ]
  },
  {
   "cell_type": "markdown",
   "metadata": {},
   "source": [
    "## 2) Conversion de type/format"
   ]
  },
  {
   "cell_type": "code",
   "execution_count": 3,
   "metadata": {},
   "outputs": [
    {
     "name": "stdout",
     "output_type": "stream",
     "text": [
      "<class 'pandas.core.frame.DataFrame'>\n",
      "RangeIndex: 213451 entries, 0 to 213450\n",
      "Data columns (total 16 columns):\n",
      " #   Column                   Non-Null Count   Dtype  \n",
      "---  ------                   --------------   -----  \n",
      " 0   id                       213451 non-null  object \n",
      " 1   date_account_created     213451 non-null  object \n",
      " 2   timestamp_first_active   213451 non-null  int64  \n",
      " 3   date_first_booking       88908 non-null   object \n",
      " 4   gender                   213451 non-null  object \n",
      " 5   age                      125461 non-null  float64\n",
      " 6   signup_method            213451 non-null  object \n",
      " 7   signup_flow              213451 non-null  int64  \n",
      " 8   language                 213451 non-null  object \n",
      " 9   affiliate_channel        213451 non-null  object \n",
      " 10  affiliate_provider       213451 non-null  object \n",
      " 11  first_affiliate_tracked  207386 non-null  object \n",
      " 12  signup_app               213451 non-null  object \n",
      " 13  first_device_type        213451 non-null  object \n",
      " 14  first_browser            213451 non-null  object \n",
      " 15  country_destination      213451 non-null  object \n",
      "dtypes: float64(1), int64(2), object(13)\n",
      "memory usage: 26.1+ MB\n"
     ]
    }
   ],
   "source": [
    "# Afficher les informations sur la base de données, y compris le shape, le type et le nom de descripteur de chaque colonne, \n",
    "# les valeurs non nulles et l'utilisation de la mémoire.\n",
    "df_train.info()"
   ]
  },
  {
   "cell_type": "markdown",
   "metadata": {},
   "source": [
    "#### Vérification de la présence des duplications"
   ]
  },
  {
   "cell_type": "code",
   "execution_count": 4,
   "metadata": {},
   "outputs": [
    {
     "data": {
      "text/html": [
       "<div>\n",
       "<style scoped>\n",
       "    .dataframe tbody tr th:only-of-type {\n",
       "        vertical-align: middle;\n",
       "    }\n",
       "\n",
       "    .dataframe tbody tr th {\n",
       "        vertical-align: top;\n",
       "    }\n",
       "\n",
       "    .dataframe thead th {\n",
       "        text-align: right;\n",
       "    }\n",
       "</style>\n",
       "<table border=\"1\" class=\"dataframe\">\n",
       "  <thead>\n",
       "    <tr style=\"text-align: right;\">\n",
       "      <th></th>\n",
       "      <th>id</th>\n",
       "      <th>date_account_created</th>\n",
       "      <th>timestamp_first_active</th>\n",
       "      <th>date_first_booking</th>\n",
       "      <th>gender</th>\n",
       "      <th>age</th>\n",
       "      <th>signup_method</th>\n",
       "      <th>signup_flow</th>\n",
       "      <th>language</th>\n",
       "      <th>affiliate_channel</th>\n",
       "      <th>affiliate_provider</th>\n",
       "      <th>first_affiliate_tracked</th>\n",
       "      <th>signup_app</th>\n",
       "      <th>first_device_type</th>\n",
       "      <th>first_browser</th>\n",
       "      <th>country_destination</th>\n",
       "    </tr>\n",
       "  </thead>\n",
       "  <tbody>\n",
       "  </tbody>\n",
       "</table>\n",
       "</div>"
      ],
      "text/plain": [
       "Empty DataFrame\n",
       "Columns: [id, date_account_created, timestamp_first_active, date_first_booking, gender, age, signup_method, signup_flow, language, affiliate_channel, affiliate_provider, first_affiliate_tracked, signup_app, first_device_type, first_browser, country_destination]\n",
       "Index: []"
      ]
     },
     "execution_count": 4,
     "metadata": {},
     "output_type": "execute_result"
    }
   ],
   "source": [
    "# Afficher les doublons s'ils existent !\n",
    "df_train[df_train[['id']].duplicated() == True]\n"
   ]
  },
  {
   "cell_type": "markdown",
   "metadata": {},
   "source": [
    "On peut déduire du resultat, qu'il n'y a pas de doublons dans nos données"
   ]
  },
  {
   "cell_type": "markdown",
   "metadata": {},
   "source": [
    "De plus, on remarque que les valeurs de descripteur $id$ sont des identifiants uniques pour chaque utilisateur. Je propose de les supprimer, car elles ne donnent pas d'informations utiles."
   ]
  },
  {
   "cell_type": "markdown",
   "metadata": {},
   "source": [
    "#### supprimer 'id'"
   ]
  },
  {
   "cell_type": "code",
   "execution_count": 5,
   "metadata": {},
   "outputs": [],
   "source": [
    "# Drope 'id'\n",
    "df_train = df_train.drop(columns=[\"id\"], axis = 1)"
   ]
  },
  {
   "cell_type": "markdown",
   "metadata": {},
   "source": [
    "#### Converter les dates  (objets vers dates): date_account_created, timestamp_first_active, date_first_booking"
   ]
  },
  {
   "cell_type": "code",
   "execution_count": 6,
   "metadata": {},
   "outputs": [
    {
     "data": {
      "text/plain": [
       "date_account_created      datetime64[ns]\n",
       "timestamp_first_active    datetime64[ns]\n",
       "date_first_booking        datetime64[ns]\n",
       "dtype: object"
      ]
     },
     "execution_count": 6,
     "metadata": {},
     "output_type": "execute_result"
    }
   ],
   "source": [
    "# Converter le type objet vers date\n",
    "df_train['date_account_created'] = pd.to_datetime(df_train['date_account_created'], format='%Y-%m-%d')\n",
    "df_train['timestamp_first_active'] = pd.to_datetime(df_train['timestamp_first_active'], format='%Y%m%d%H%M%S')\n",
    "df_train['date_first_booking'] = pd.to_datetime(df_train['date_first_booking'], format='%Y-%m-%d')\n",
    "\n",
    "# Vérifier la conversion de types date\n",
    "column_dates = ['date_account_created', 'timestamp_first_active', 'date_first_booking']\n",
    "df_train[column_dates].dtypes"
   ]
  },
  {
   "cell_type": "markdown",
   "metadata": {},
   "source": [
    "#### Dans l'étape de remplacement des valeurs manquantes, nous convertirons l'âge (float vers int)"
   ]
  },
  {
   "cell_type": "markdown",
   "metadata": {},
   "source": [
    "## 3) Remplacement de valeurs manquantes / Correction & Suppression de valeurs aberrantes"
   ]
  },
  {
   "cell_type": "code",
   "execution_count": 7,
   "metadata": {},
   "outputs": [
    {
     "name": "stdout",
     "output_type": "stream",
     "text": [
      "date_first_booking :  58.35 % / 124543  valeurs manquantes  \n",
      "\n",
      "age :  41.22 % / 87990  valeurs manquantes  \n",
      "\n",
      "first_affiliate_tracked :  2.84 % / 6065  valeurs manquantes  \n",
      "\n"
     ]
    }
   ],
   "source": [
    "# Afficher le nom de la variable et le pourcentage et le total de valeurs manquantes\n",
    "features_nan = [feature for feature in df_train.columns if df_train[feature].isnull().sum()>1]\n",
    " \n",
    "for feature in features_nan:\n",
    "    print(feature, ': ',np.round(df_train[feature].isnull().mean()*100, 2), '% /', \n",
    "          df_train[feature].isnull().sum(),' valeurs manquantes ', '\\n')  "
   ]
  },
  {
   "cell_type": "markdown",
   "metadata": {},
   "source": [
    "#### Note: \n",
    "Dans notre processus de remplacement des valeurs manquantes, on commence par les descripteurs avec moins de valeurs manquantes."
   ]
  },
  {
   "cell_type": "markdown",
   "metadata": {},
   "source": [
    "### 3.1) first_affiliate_tracked"
   ]
  },
  {
   "cell_type": "markdown",
   "metadata": {},
   "source": [
    "Etudier la tendance des valeurs manquantes par rapport a la cible"
   ]
  },
  {
   "cell_type": "code",
   "execution_count": 8,
   "metadata": {},
   "outputs": [
    {
     "data": {
      "text/plain": [
       "Text(0.5, 1.0, 'Nan-first_affiliate_tracked =0 / Value-first_affiliate_tracked =1 la distribution de first_affiliate_tracked pour chaque classe de \"country_destination\" ')"
      ]
     },
     "execution_count": 8,
     "metadata": {},
     "output_type": "execute_result"
    },
    {
     "data": {
      "image/png": "[encoded data removed]",
      "text/plain": [
       "<Figure size 792x432 with 1 Axes>"
      ]
     },
     "metadata": {
      "needs_background": "light"
     },
     "output_type": "display_data"
    }
   ],
   "source": [
    "# la distribution de first_affiliate_tracked pour chaque classe de \"country_destination\" (Nan-num_of_doors =0 / Value-num_of_doors =1) \n",
    "\n",
    "df = df_train.copy()\n",
    "df['0-1_first_affiliate_tracked'] = df['first_affiliate_tracked'].isnull().map(lambda x : 0 if x == True else 1)\n",
    "fig = plt.figure(figsize=(11,6))\n",
    "ax = sns.countplot(df['country_destination'],hue=df['0-1_first_affiliate_tracked'])\n",
    "ax.set_title('Nan-first_affiliate_tracked =0 / Value-first_affiliate_tracked =1 la distribution de first_affiliate_tracked pour chaque classe de \"country_destination\" ',fontsize = 12)"
   ]
  },
  {
   "cell_type": "code",
   "execution_count": 9,
   "metadata": {},
   "outputs": [
    {
     "name": "stdout",
     "output_type": "stream",
     "text": [
      "Le total du valeurs manquantes de first_affiliate_tracked dans  NDF : 4327\n",
      "Le total du valeurs manquantes de first_affiliate_tracked dans  US : 1309\n",
      "Le total du valeurs manquantes de first_affiliate_tracked dans  other : 113\n",
      "Le total du valeurs manquantes de first_affiliate_tracked dans  FR : 124\n",
      "Le total du valeurs manquantes de first_affiliate_tracked dans  CA : 37\n",
      "Le total du valeurs manquantes de first_affiliate_tracked dans  GB : 29\n",
      "Le total du valeurs manquantes de first_affiliate_tracked dans  ES : 36\n",
      "Le total du valeurs manquantes de first_affiliate_tracked dans  IT : 44\n",
      "Le total du valeurs manquantes de first_affiliate_tracked dans  PT : 3\n",
      "Le total du valeurs manquantes de first_affiliate_tracked dans  NL : 11\n",
      "Le total du valeurs manquantes de first_affiliate_tracked dans  DE : 20\n",
      "Le total du valeurs manquantes de first_affiliate_tracked dans  AU : 12\n"
     ]
    }
   ],
   "source": [
    "# Le totale du catégories manquantes de first_affiliate_tracked dans chaque country_destination\n",
    "for var in df[\"country_destination\"].unique():\n",
    "    res = df[df[\"country_destination\"]== var]\n",
    "    print(\"Le total du valeurs manquantes de first_affiliate_tracked dans \", var ,\n",
    "          \":\", res[\"first_affiliate_tracked\"].isnull().sum())"
   ]
  },
  {
   "cell_type": "markdown",
   "metadata": {},
   "source": [
    "#### Cas : MCAR\n",
    "On remarque que les valeurs manquantes sont réparties de manière aléatoire et il n'y a aucune tendance particulière dans les positions du valeurs manquantes. Mais, la plupart sont présentes dans les demandes de réservations NDF et US."
   ]
  },
  {
   "cell_type": "code",
   "execution_count": 10,
   "metadata": {},
   "outputs": [
    {
     "name": "stdout",
     "output_type": "stream",
     "text": [
      "la valeur la plus fréquentes pour  NDF : untracked\n",
      "la valeur la plus fréquentes pour  US : untracked\n",
      "la valeur la plus fréquentes pour  other : untracked\n",
      "la valeur la plus fréquentes pour  FR : untracked\n",
      "la valeur la plus fréquentes pour  CA : untracked\n",
      "la valeur la plus fréquentes pour  GB : untracked\n",
      "la valeur la plus fréquentes pour  ES : untracked\n",
      "la valeur la plus fréquentes pour  IT : untracked\n",
      "la valeur la plus fréquentes pour  PT : untracked\n",
      "la valeur la plus fréquentes pour  NL : untracked\n",
      "la valeur la plus fréquentes pour  DE : untracked\n",
      "la valeur la plus fréquentes pour  AU : untracked\n"
     ]
    }
   ],
   "source": [
    "# la catégorie la plus fréquente de first_affiliate_tracked dans chaque country_destination\n",
    "for var in df[\"country_destination\"].unique():\n",
    "    res = df[df[\"country_destination\"]== var]\n",
    "    print(\"la valeur la plus fréquentes pour \", var ,\n",
    "          \":\", res[\"first_affiliate_tracked\"].mode()[0])"
   ]
  },
  {
   "cell_type": "markdown",
   "metadata": {},
   "source": [
    "On remarque que la catégorie $\"untracked\"$ est la plus fréquente dans tout les catégories de first_affiliate_tracked.\n",
    "Selon cette analyse, on propose de remplacer les catégories manquantes par $\"untracked\"$. "
   ]
  },
  {
   "cell_type": "markdown",
   "metadata": {},
   "source": [
    "#### Remplacement les catégories manquantes par \"𝑢𝑛𝑡𝑟𝑎𝑐𝑘𝑒𝑑\""
   ]
  },
  {
   "cell_type": "code",
   "execution_count": 11,
   "metadata": {},
   "outputs": [
    {
     "name": "stdout",
     "output_type": "stream",
     "text": [
      "le Total du valeurs manqantes dans first_affiliaDte_tracked égale  0\n"
     ]
    }
   ],
   "source": [
    "# Remplacer les valeurs manquantes (Cat) de first_affiliate_tracked par \"untracked\"\n",
    "index = df_train[df_train.first_affiliate_tracked.isnull()].index\n",
    "df_train.loc[index, \"first_affiliate_tracked\"] = 'untracked'\n",
    "\n",
    "# Vérifiez si le remplacement des valeurs manquantes (cat) a bien fonctionné !\n",
    "print(\"le Total du valeurs manqantes dans first_affiliaDte_tracked égale \", \n",
    "      df_train[\"first_affiliate_tracked\"].isnull().sum())"
   ]
  },
  {
   "cell_type": "markdown",
   "metadata": {},
   "source": [
    "### 3.2) age"
   ]
  },
  {
   "cell_type": "markdown",
   "metadata": {},
   "source": [
    "Avant le remplacement des valeurs manquantes, je propose de supprimer les échantillons ou les valeurs de l'age est plus de 90 ans, et aussi les échantillons avec l'age moins de 18 ans, car; l'application Airbnb et les services sont destinés uniquement aux personnes âgées de 18 ans ou plus."
   ]
  },
  {
   "cell_type": "code",
   "execution_count": 12,
   "metadata": {},
   "outputs": [
    {
     "name": "stdout",
     "output_type": "stream",
     "text": [
      " Le totale des échantillons avec l'age plus de 90:      2543\n",
      " Le totale des échantillons avec l'age moins de 18:     158\n",
      " Le totale des échantillons avec l'age (18 > age > 90): 2701\n",
      " Le pourcentage des échantillons ou (18 > age >  90):   1.27 %\n"
     ]
    }
   ],
   "source": [
    "# Le Totale et le pourcentage des échantillons ou (18 > age > 90) par rapport au total des échantillons.  \n",
    "df_manip = df_train.copy()\n",
    "\n",
    "age_sup_90 = df_manip[df_manip['age'] > 90].shape[0]\n",
    "age_inf_18 = df_manip[df_manip['age'] < 18].shape[0]\n",
    "age_total = df_manip['age'].shape[0]\n",
    "print(\" Le totale des échantillons avec l'age plus de 90:     \", age_sup_90)\n",
    "print(\" Le totale des échantillons avec l'age moins de 18:    \", age_inf_18)\n",
    "print(\" Le totale des échantillons avec l'age (18 > age > 90):\", age_sup_90 + age_inf_18)\n",
    "print(\" Le pourcentage des échantillons ou (18 > age >  90):  \",\n",
    "      np.round(((age_sup_90 + age_inf_18)/ age_total)*100, 2), \"%\")"
   ]
  },
  {
   "cell_type": "markdown",
   "metadata": {},
   "source": [
    "Notez que les échantillons avec des valeurs aberrantes (âge) ne représentent que 1,27%"
   ]
  },
  {
   "cell_type": "markdown",
   "metadata": {},
   "source": [
    "#### Suppression de valeurs aberrantes \" les échantillons  (18 > age >  90) \" "
   ]
  },
  {
   "cell_type": "code",
   "execution_count": 13,
   "metadata": {},
   "outputs": [],
   "source": [
    "# Suppression de valeurs aberrantes \" les échantillons (18 > age > 90)\" \n",
    "df_train = df_train.loc[((df_manip['age'] > 18) & (df_manip['age'] < 90))|(df_manip['age'].isnull())]"
   ]
  },
  {
   "cell_type": "code",
   "execution_count": 14,
   "metadata": {},
   "outputs": [
    {
     "data": {
      "text/plain": [
       "<seaborn.axisgrid.FacetGrid at 0x7f11f105e820>"
      ]
     },
     "execution_count": 14,
     "metadata": {},
     "output_type": "execute_result"
    },
    {
     "data": {
      "image/png": "[encoded data removed]",
      "text/plain": [
       "<Figure size 360x360 with 1 Axes>"
      ]
     },
     "metadata": {
      "needs_background": "light"
     },
     "output_type": "display_data"
    }
   ],
   "source": [
    "# tracer l'histogramme age\n",
    "sns.displot(df_train, x=\"age\", kind=\"kde\", bw_adjust=.25)"
   ]
  },
  {
   "cell_type": "markdown",
   "metadata": {},
   "source": [
    "#### Etudier la tendance des valeurs manquantes par rapport à la cible"
   ]
  },
  {
   "cell_type": "code",
   "execution_count": 15,
   "metadata": {},
   "outputs": [
    {
     "data": {
      "text/plain": [
       "Text(0.5, 1.0, 'Nan-age =0 / Value-age =1 la distribution de age pour chaque classe de \"country_destination\" ')"
      ]
     },
     "execution_count": 15,
     "metadata": {},
     "output_type": "execute_result"
    },
    {
     "data": {
      "image/png": "[encoded data removed]",
      "text/plain": [
       "<Figure size 792x432 with 1 Axes>"
      ]
     },
     "metadata": {
      "needs_background": "light"
     },
     "output_type": "display_data"
    }
   ],
   "source": [
    "# la distribution de l'age pour chaque classe de \"country_destination\" (Nan-age =0 / Value-age =1) \n",
    "\n",
    "df = df_train.copy()\n",
    "df['0-1_age'] = df['age'].isnull().map(lambda x : 0 if x == True else 1)\n",
    "fig = plt.figure(figsize=(11,6))\n",
    "ax = sns.countplot(df['country_destination'],hue=df['0-1_age'])\n",
    "ax.set_title('Nan-age =0 / Value-age =1 la distribution de age pour chaque classe de \"country_destination\" ',fontsize = 12)"
   ]
  },
  {
   "cell_type": "markdown",
   "metadata": {},
   "source": [
    "#### Cas MAR:\n",
    "On remarque que la plus de part des valeurs sont présentes dans les demandes de réservations NDF (plus de 80% de Total des Nan dans age)."
   ]
  },
  {
   "cell_type": "code",
   "execution_count": 16,
   "metadata": {
    "scrolled": true
   },
   "outputs": [
    {
     "name": "stdout",
     "output_type": "stream",
     "text": [
      "les propriétés statistiques de l'age selon  NDF : count    55311.000000\n",
      "mean        37.020520\n",
      "std         11.777097\n",
      "min         19.000000\n",
      "25%         28.000000\n",
      "50%         34.000000\n",
      "75%         43.000000\n",
      "max         89.000000\n",
      "Name: age, dtype: float64 \n",
      "\n",
      "les propriétés statistiques de l'age selon  US : count    47394.00000\n",
      "mean        35.99348\n",
      "std         10.77716\n",
      "min         19.00000\n",
      "25%         28.00000\n",
      "50%         33.00000\n",
      "75%         41.00000\n",
      "max         89.00000\n",
      "Name: age, dtype: float64 \n",
      "\n",
      "les propriétés statistiques de l'age selon  other : count    7350.000000\n",
      "mean       36.305170\n",
      "std        11.072544\n",
      "min        19.000000\n",
      "25%        29.000000\n",
      "50%        33.000000\n",
      "75%        41.000000\n",
      "max        88.000000\n",
      "Name: age, dtype: float64 \n",
      "\n",
      "les propriétés statistiques de l'age selon  FR : count    3626.000000\n",
      "mean       37.398787\n",
      "std        11.824176\n",
      "min        19.000000\n",
      "25%        29.000000\n",
      "50%        34.000000\n",
      "75%        44.000000\n",
      "max        84.000000\n",
      "Name: age, dtype: float64 \n",
      "\n",
      "les propriétés statistiques de l'age selon  CA : count    1044.000000\n",
      "mean       37.166667\n",
      "std        11.036808\n",
      "min        19.000000\n",
      "25%        29.000000\n",
      "50%        34.000000\n",
      "75%        43.000000\n",
      "max        88.000000\n",
      "Name: age, dtype: float64 \n",
      "\n",
      "les propriétés statistiques de l'age selon  GB : count    1724.000000\n",
      "mean       38.168213\n",
      "std        12.708921\n",
      "min        19.000000\n",
      "25%        29.000000\n",
      "50%        35.000000\n",
      "75%        45.000000\n",
      "max        86.000000\n",
      "Name: age, dtype: float64 \n",
      "\n",
      "les propriétés statistiques de l'age selon  ES : count    1668.000000\n",
      "mean       35.030576\n",
      "std        11.184429\n",
      "min        19.000000\n",
      "25%        27.000000\n",
      "50%        32.000000\n",
      "75%        39.000000\n",
      "max        87.000000\n",
      "Name: age, dtype: float64 \n",
      "\n",
      "les propriétés statistiques de l'age selon  IT : count    1967.000000\n",
      "mean       37.033554\n",
      "std        12.223832\n",
      "min        19.000000\n",
      "25%        28.000000\n",
      "50%        34.000000\n",
      "75%        43.000000\n",
      "max        86.000000\n",
      "Name: age, dtype: float64 \n",
      "\n",
      "les propriétés statistiques de l'age selon  PT : count    156.000000\n",
      "mean      35.788462\n",
      "std       11.738005\n",
      "min       19.000000\n",
      "25%       28.000000\n",
      "50%       32.000000\n",
      "75%       41.000000\n",
      "max       73.000000\n",
      "Name: age, dtype: float64 \n",
      "\n",
      "les propriétés statistiques de l'age selon  NL : count    585.000000\n",
      "mean      36.080342\n",
      "std       12.091774\n",
      "min       19.000000\n",
      "25%       28.000000\n",
      "50%       33.000000\n",
      "75%       40.000000\n",
      "max       89.000000\n",
      "Name: age, dtype: float64 \n",
      "\n",
      "les propriétés statistiques de l'age selon  DE : count    821.000000\n",
      "mean      36.800244\n",
      "std       11.724232\n",
      "min       19.000000\n",
      "25%       28.000000\n",
      "50%       34.000000\n",
      "75%       42.000000\n",
      "max       75.000000\n",
      "Name: age, dtype: float64 \n",
      "\n",
      "les propriétés statistiques de l'age selon  AU : count    427.000000\n",
      "mean      37.217799\n",
      "std       10.869774\n",
      "min       19.000000\n",
      "25%       29.000000\n",
      "50%       35.000000\n",
      "75%       43.000000\n",
      "max       73.000000\n",
      "Name: age, dtype: float64 \n",
      "\n"
     ]
    }
   ],
   "source": [
    "# Décrire toutes les propriétés statistiques de l'age (pour chaque destination) sans les valeurs abérantes\n",
    "for var in df[\"country_destination\"].unique():\n",
    "    res = df[df[\"country_destination\"]== var]\n",
    "    print(\"les propriétés statistiques de l'age selon \", var ,\n",
    "          \":\", res[\"age\"].describe(), \"\\n\")"
   ]
  },
  {
   "cell_type": "markdown",
   "metadata": {},
   "source": [
    "Nous notons que l'âge moyen dans tous les groupes se situe entre 35-38 ans et pour la médiane entre 32-35 ans.\n",
    "\n",
    "Tant que les valeurs aberrantes sont supprimées, nous pouvons remplacer les valeurs manquantes par l'age le plus fréquent (mode) de chaque destination au lieu de  la moyenne ou du median, \n",
    "\n",
    "#### Problème !! (manque de la cible dans les données du test) !!\n",
    "\n",
    "#### Solution  proposée: \n",
    "\n",
    "Problème et solution:\n",
    "Dans nos données de test, nous manquons la cible (country_destination), donc, au plus tard, nous ne pouvons pas appliquer la même idée sur nos données de test. Comme solution, je suggère de remplacer toutes les valeurs manquantes par l'âge (mode) le plus fréquent dans le train de données. "
   ]
  },
  {
   "cell_type": "markdown",
   "metadata": {},
   "source": [
    "#### Remplacement des valeurs manquantes de l'age par le mode et changer le type de l'Age (float vers int) "
   ]
  },
  {
   "cell_type": "code",
   "execution_count": 17,
   "metadata": {},
   "outputs": [],
   "source": [
    "# Remplacer les valeurs manquantes de l'age par le mode \n",
    "df_train[\"age\"].fillna(df_train[\"age\"].mode()[0], axis= 0, inplace=True)\n",
    "\n",
    "#Converter l'Age (float vers int32)  \n",
    "df_train[\"age\"] = df_train[\"age\"].astype(np.int32) "
   ]
  },
  {
   "cell_type": "code",
   "execution_count": 18,
   "metadata": {},
   "outputs": [
    {
     "name": "stdout",
     "output_type": "stream",
     "text": [
      "le Total du valeurs manqantes dans age égale  0\n"
     ]
    },
    {
     "data": {
      "text/plain": [
       "array([30, 38, 56, 42, 41, 46, 47, 50, 36, 37, 33, 31, 29, 40, 26, 32, 35,\n",
       "       59, 49, 44, 34, 28, 19, 53, 52, 39, 57, 25, 54, 69, 63, 43, 55, 65,\n",
       "       58, 61, 27, 45, 60, 48, 51, 64, 72, 70, 67, 73, 66, 68, 24, 75, 79,\n",
       "       62, 23, 76, 74, 87, 71, 84, 78, 82, 77, 22, 89, 21, 20, 86, 81, 88,\n",
       "       80, 83, 85], dtype=int32)"
      ]
     },
     "execution_count": 18,
     "metadata": {},
     "output_type": "execute_result"
    }
   ],
   "source": [
    "# Vérifiez si le remplacement des valeurs manquantes a bien fonctionné !\n",
    "print(\"le Total du valeurs manqantes dans age égale \", \n",
    "      df_train[\"age\"].isnull().sum())\n",
    "\n",
    "# Les valeurs unique (Age)\n",
    "df_train[\"age\"].unique()"
   ]
  },
  {
   "cell_type": "markdown",
   "metadata": {},
   "source": [
    "### 3.3) date_first_booking"
   ]
  },
  {
   "cell_type": "markdown",
   "metadata": {},
   "source": [
    "Les dates manquantes de \"date_first_booking\" sont difficiles à remplacer, car nous ne pouvons pas prédire la date de réservation sur la base des valeurs non manquantes dans le descripteur, ou en se basant sur les autres descripteurs\n",
    "\n",
    "Au lieu de supprimer les échantillons (date_first_booking = Nan ) et nous risquons de changer la distribution de probabilité de nos descripteurs. Je suggère de supprimer ce descripteur surtout avec la présence de plusieurs valeurs manquantes (environ de 60%) dans le data du train et 100% dans le data du test."
   ]
  },
  {
   "cell_type": "markdown",
   "metadata": {},
   "source": [
    "#### supprimer 'date_first_booking'"
   ]
  },
  {
   "cell_type": "code",
   "execution_count": 19,
   "metadata": {},
   "outputs": [],
   "source": [
    "# Drope 'date_first_booking'\n",
    "df_train = df_train.drop(columns=[\"date_first_booking\"], axis = 1, )\n",
    "\n",
    "# reset index\n",
    "df_train = df_train.reset_index(drop=True)"
   ]
  },
  {
   "cell_type": "code",
   "execution_count": 20,
   "metadata": {},
   "outputs": [
    {
     "name": "stdout",
     "output_type": "stream",
     "text": [
      "<class 'pandas.core.frame.DataFrame'>\n",
      "RangeIndex: 210063 entries, 0 to 210062\n",
      "Data columns (total 14 columns):\n",
      " #   Column                   Non-Null Count   Dtype         \n",
      "---  ------                   --------------   -----         \n",
      " 0   date_account_created     210063 non-null  datetime64[ns]\n",
      " 1   timestamp_first_active   210063 non-null  datetime64[ns]\n",
      " 2   gender                   210063 non-null  object        \n",
      " 3   age                      210063 non-null  int32         \n",
      " 4   signup_method            210063 non-null  object        \n",
      " 5   signup_flow              210063 non-null  int64         \n",
      " 6   language                 210063 non-null  object        \n",
      " 7   affiliate_channel        210063 non-null  object        \n",
      " 8   affiliate_provider       210063 non-null  object        \n",
      " 9   first_affiliate_tracked  210063 non-null  object        \n",
      " 10  signup_app               210063 non-null  object        \n",
      " 11  first_device_type        210063 non-null  object        \n",
      " 12  first_browser            210063 non-null  object        \n",
      " 13  country_destination      210063 non-null  object        \n",
      "dtypes: datetime64[ns](2), int32(1), int64(1), object(10)\n",
      "memory usage: 21.6+ MB\n"
     ]
    }
   ],
   "source": [
    "# Afficher les informations sur la base de données, y compris le shape, le type et le nom de descripteur de chaque colonne, \n",
    "# les valeurs non nulles et l'utilisation de la mémoire.\n",
    "df_train.info()"
   ]
  },
  {
   "cell_type": "markdown",
   "metadata": {},
   "source": [
    "## 4) Correction/Standardisation/Normalisation de données "
   ]
  },
  {
   "cell_type": "markdown",
   "metadata": {},
   "source": [
    "#### Standardisation/Normalisation des descripteurs $age$ et $signupflow$"
   ]
  },
  {
   "cell_type": "code",
   "execution_count": 21,
   "metadata": {},
   "outputs": [],
   "source": [
    "# Création un dataframe pour les 2 series \"age\" et \"signup_flow\"\n",
    "df_normal = pd.DataFrame({'age_norm': df_train[\"age\"],\n",
    "                          'signup_flow_norm': df_train[\"signup_flow\"]\n",
    "                         })"
   ]
  },
  {
   "cell_type": "code",
   "execution_count": 22,
   "metadata": {},
   "outputs": [
    {
     "data": {
      "image/png": "[encoded data removed]",
      "text/plain": [
       "<Figure size 1440x360 with 2 Axes>"
      ]
     },
     "metadata": {
      "needs_background": "light"
     },
     "output_type": "display_data"
    }
   ],
   "source": [
    "# Plots (avant mise à l'échelle)\n",
    "figures, (cx1, cx2) = plt.subplots(ncols=2, figsize=(20,5))\n",
    "\n",
    "cx1.set_title(\"distribution de l'age Avant mise à l'échelle\")\n",
    "sns.kdeplot(df_normal[\"age_norm\"], ax=cx1)\n",
    "\n",
    "cx2.set_title(\"distribution de signup_flow Avant mise à l'échelle\")\n",
    "sns.kdeplot(df_normal[\"signup_flow_norm\"], ax= cx2)\n",
    "\n",
    "plt.show()"
   ]
  },
  {
   "cell_type": "markdown",
   "metadata": {},
   "source": [
    "Nous remarquons que les distributions pour les  descripteurs sont parfaitement asymétriques à droite (non-normal).\n",
    "Alors; le MinMax Scaler est le bon choix pour normalisation ou pour mise à l'échelle de nos données"
   ]
  },
  {
   "cell_type": "code",
   "execution_count": 23,
   "metadata": {},
   "outputs": [],
   "source": [
    "from sklearn.preprocessing import MinMaxScaler\n",
    "\n",
    "# MinMaxScaler: Prends en compte les distributions normals et non-normals \n",
    "\n",
    "# Creation du MinMax Scaler\n",
    "scaler = MinMaxScaler()\n",
    "# fit sclaer\n",
    "scaler.fit(df_normal)\n",
    "# transform\n",
    "df_echelle = scaler.transform(df_normal)\n",
    "#conversion en dataframe \n",
    "df_train_echelle = pd.DataFrame(df_echelle, columns=[\"age\", \"signup_flow\"])\n"
   ]
  },
  {
   "cell_type": "code",
   "execution_count": 24,
   "metadata": {},
   "outputs": [
    {
     "data": {
      "image/png": "[encoded data removed]",
      "text/plain": [
       "<Figure size 1440x360 with 2 Axes>"
      ]
     },
     "metadata": {
      "needs_background": "light"
     },
     "output_type": "display_data"
    }
   ],
   "source": [
    "# Plots (aprés mise à l'échelle)\n",
    "figures, (cx1, cx2) = plt.subplots(ncols=2, figsize=(20,5))\n",
    "\n",
    "cx1.set_title(\"distribution de l'age Aprés mise à l'échelle\")\n",
    "sns.kdeplot(df_train_echelle[\"age\"], ax=cx1)\n",
    "\n",
    "cx2.set_title(\"distribution de signup_flow Aprés mise à l'échelle\")\n",
    "sns.kdeplot(df_train_echelle[\"signup_flow\"], ax= cx2)\n",
    "\n",
    "plt.show()"
   ]
  },
  {
   "cell_type": "code",
   "execution_count": 25,
   "metadata": {},
   "outputs": [
    {
     "data": {
      "text/html": [
       "<div>\n",
       "<style scoped>\n",
       "    .dataframe tbody tr th:only-of-type {\n",
       "        vertical-align: middle;\n",
       "    }\n",
       "\n",
       "    .dataframe tbody tr th {\n",
       "        vertical-align: top;\n",
       "    }\n",
       "\n",
       "    .dataframe thead th {\n",
       "        text-align: right;\n",
       "    }\n",
       "</style>\n",
       "<table border=\"1\" class=\"dataframe\">\n",
       "  <thead>\n",
       "    <tr style=\"text-align: right;\">\n",
       "      <th></th>\n",
       "      <th>date_account_created</th>\n",
       "      <th>timestamp_first_active</th>\n",
       "      <th>gender</th>\n",
       "      <th>age</th>\n",
       "      <th>signup_method</th>\n",
       "      <th>signup_flow</th>\n",
       "      <th>language</th>\n",
       "      <th>affiliate_channel</th>\n",
       "      <th>affiliate_provider</th>\n",
       "      <th>first_affiliate_tracked</th>\n",
       "      <th>signup_app</th>\n",
       "      <th>first_device_type</th>\n",
       "      <th>first_browser</th>\n",
       "      <th>country_destination</th>\n",
       "    </tr>\n",
       "  </thead>\n",
       "  <tbody>\n",
       "    <tr>\n",
       "      <th>0</th>\n",
       "      <td>2010-06-28</td>\n",
       "      <td>2009-03-19 04:32:55</td>\n",
       "      <td>-unknown-</td>\n",
       "      <td>0.157143</td>\n",
       "      <td>facebook</td>\n",
       "      <td>0.00</td>\n",
       "      <td>en</td>\n",
       "      <td>direct</td>\n",
       "      <td>direct</td>\n",
       "      <td>untracked</td>\n",
       "      <td>Web</td>\n",
       "      <td>Mac Desktop</td>\n",
       "      <td>Chrome</td>\n",
       "      <td>NDF</td>\n",
       "    </tr>\n",
       "    <tr>\n",
       "      <th>1</th>\n",
       "      <td>2011-05-25</td>\n",
       "      <td>2009-05-23 17:48:09</td>\n",
       "      <td>MALE</td>\n",
       "      <td>0.271429</td>\n",
       "      <td>facebook</td>\n",
       "      <td>0.00</td>\n",
       "      <td>en</td>\n",
       "      <td>seo</td>\n",
       "      <td>google</td>\n",
       "      <td>untracked</td>\n",
       "      <td>Web</td>\n",
       "      <td>Mac Desktop</td>\n",
       "      <td>Chrome</td>\n",
       "      <td>NDF</td>\n",
       "    </tr>\n",
       "    <tr>\n",
       "      <th>2</th>\n",
       "      <td>2010-09-28</td>\n",
       "      <td>2009-06-09 23:12:47</td>\n",
       "      <td>FEMALE</td>\n",
       "      <td>0.528571</td>\n",
       "      <td>basic</td>\n",
       "      <td>0.12</td>\n",
       "      <td>en</td>\n",
       "      <td>direct</td>\n",
       "      <td>direct</td>\n",
       "      <td>untracked</td>\n",
       "      <td>Web</td>\n",
       "      <td>Windows Desktop</td>\n",
       "      <td>IE</td>\n",
       "      <td>US</td>\n",
       "    </tr>\n",
       "    <tr>\n",
       "      <th>3</th>\n",
       "      <td>2011-12-05</td>\n",
       "      <td>2009-10-31 06:01:29</td>\n",
       "      <td>FEMALE</td>\n",
       "      <td>0.328571</td>\n",
       "      <td>facebook</td>\n",
       "      <td>0.00</td>\n",
       "      <td>en</td>\n",
       "      <td>direct</td>\n",
       "      <td>direct</td>\n",
       "      <td>untracked</td>\n",
       "      <td>Web</td>\n",
       "      <td>Mac Desktop</td>\n",
       "      <td>Firefox</td>\n",
       "      <td>other</td>\n",
       "    </tr>\n",
       "    <tr>\n",
       "      <th>4</th>\n",
       "      <td>2010-09-14</td>\n",
       "      <td>2009-12-08 06:11:05</td>\n",
       "      <td>-unknown-</td>\n",
       "      <td>0.314286</td>\n",
       "      <td>basic</td>\n",
       "      <td>0.00</td>\n",
       "      <td>en</td>\n",
       "      <td>direct</td>\n",
       "      <td>direct</td>\n",
       "      <td>untracked</td>\n",
       "      <td>Web</td>\n",
       "      <td>Mac Desktop</td>\n",
       "      <td>Chrome</td>\n",
       "      <td>US</td>\n",
       "    </tr>\n",
       "  </tbody>\n",
       "</table>\n",
       "</div>"
      ],
      "text/plain": [
       "  date_account_created timestamp_first_active     gender       age  \\\n",
       "0           2010-06-28    2009-03-19 04:32:55  -unknown-  0.157143   \n",
       "1           2011-05-25    2009-05-23 17:48:09       MALE  0.271429   \n",
       "2           2010-09-28    2009-06-09 23:12:47     FEMALE  0.528571   \n",
       "3           2011-12-05    2009-10-31 06:01:29     FEMALE  0.328571   \n",
       "4           2010-09-14    2009-12-08 06:11:05  -unknown-  0.314286   \n",
       "\n",
       "  signup_method  signup_flow language affiliate_channel affiliate_provider  \\\n",
       "0      facebook         0.00       en            direct             direct   \n",
       "1      facebook         0.00       en               seo             google   \n",
       "2         basic         0.12       en            direct             direct   \n",
       "3      facebook         0.00       en            direct             direct   \n",
       "4         basic         0.00       en            direct             direct   \n",
       "\n",
       "  first_affiliate_tracked signup_app first_device_type first_browser  \\\n",
       "0               untracked        Web       Mac Desktop        Chrome   \n",
       "1               untracked        Web       Mac Desktop        Chrome   \n",
       "2               untracked        Web   Windows Desktop            IE   \n",
       "3               untracked        Web       Mac Desktop       Firefox   \n",
       "4               untracked        Web       Mac Desktop        Chrome   \n",
       "\n",
       "  country_destination  \n",
       "0                 NDF  \n",
       "1                 NDF  \n",
       "2                  US  \n",
       "3               other  \n",
       "4                  US  "
      ]
     },
     "execution_count": 25,
     "metadata": {},
     "output_type": "execute_result"
    }
   ],
   "source": [
    "# Remplacement par les nouvelles valeurs transformées\n",
    "df_train[\"signup_flow\"] = df_train_echelle[\"signup_flow\"]\n",
    "df_train[\"age\"] = df_train_echelle[\"age\"]\n",
    "df_train.head()"
   ]
  },
  {
   "cell_type": "code",
   "execution_count": 26,
   "metadata": {},
   "outputs": [
    {
     "name": "stdout",
     "output_type": "stream",
     "text": [
      "<class 'pandas.core.frame.DataFrame'>\n",
      "RangeIndex: 210063 entries, 0 to 210062\n",
      "Data columns (total 14 columns):\n",
      " #   Column                   Non-Null Count   Dtype         \n",
      "---  ------                   --------------   -----         \n",
      " 0   date_account_created     210063 non-null  datetime64[ns]\n",
      " 1   timestamp_first_active   210063 non-null  datetime64[ns]\n",
      " 2   gender                   210063 non-null  object        \n",
      " 3   age                      210063 non-null  float64       \n",
      " 4   signup_method            210063 non-null  object        \n",
      " 5   signup_flow              210063 non-null  float64       \n",
      " 6   language                 210063 non-null  object        \n",
      " 7   affiliate_channel        210063 non-null  object        \n",
      " 8   affiliate_provider       210063 non-null  object        \n",
      " 9   first_affiliate_tracked  210063 non-null  object        \n",
      " 10  signup_app               210063 non-null  object        \n",
      " 11  first_device_type        210063 non-null  object        \n",
      " 12  first_browser            210063 non-null  object        \n",
      " 13  country_destination      210063 non-null  object        \n",
      "dtypes: datetime64[ns](2), float64(2), object(10)\n",
      "memory usage: 22.4+ MB\n"
     ]
    }
   ],
   "source": [
    "df_train.info()"
   ]
  },
  {
   "cell_type": "markdown",
   "metadata": {},
   "source": [
    "### Enregistrer le data train dans un csv"
   ]
  },
  {
   "cell_type": "code",
   "execution_count": 27,
   "metadata": {},
   "outputs": [],
   "source": [
    "df_train.to_csv(\"df_train_out\")"
   ]
  },
  {
   "cell_type": "markdown",
   "metadata": {},
   "source": [
    "## 5) Applications les mêmes transformations de données de train sur des données de test"
   ]
  },
  {
   "cell_type": "code",
   "execution_count": 28,
   "metadata": {},
   "outputs": [
    {
     "data": {
      "text/html": [
       "<div>\n",
       "<style scoped>\n",
       "    .dataframe tbody tr th:only-of-type {\n",
       "        vertical-align: middle;\n",
       "    }\n",
       "\n",
       "    .dataframe tbody tr th {\n",
       "        vertical-align: top;\n",
       "    }\n",
       "\n",
       "    .dataframe thead th {\n",
       "        text-align: right;\n",
       "    }\n",
       "</style>\n",
       "<table border=\"1\" class=\"dataframe\">\n",
       "  <thead>\n",
       "    <tr style=\"text-align: right;\">\n",
       "      <th></th>\n",
       "      <th>id</th>\n",
       "      <th>date_account_created</th>\n",
       "      <th>timestamp_first_active</th>\n",
       "      <th>date_first_booking</th>\n",
       "      <th>gender</th>\n",
       "      <th>age</th>\n",
       "      <th>signup_method</th>\n",
       "      <th>signup_flow</th>\n",
       "      <th>language</th>\n",
       "      <th>affiliate_channel</th>\n",
       "      <th>affiliate_provider</th>\n",
       "      <th>first_affiliate_tracked</th>\n",
       "      <th>signup_app</th>\n",
       "      <th>first_device_type</th>\n",
       "      <th>first_browser</th>\n",
       "    </tr>\n",
       "  </thead>\n",
       "  <tbody>\n",
       "    <tr>\n",
       "      <th>0</th>\n",
       "      <td>5uwns89zht</td>\n",
       "      <td>2014-07-01</td>\n",
       "      <td>20140701000006</td>\n",
       "      <td>NaN</td>\n",
       "      <td>FEMALE</td>\n",
       "      <td>35.0</td>\n",
       "      <td>facebook</td>\n",
       "      <td>0</td>\n",
       "      <td>en</td>\n",
       "      <td>direct</td>\n",
       "      <td>direct</td>\n",
       "      <td>untracked</td>\n",
       "      <td>Moweb</td>\n",
       "      <td>iPhone</td>\n",
       "      <td>Mobile Safari</td>\n",
       "    </tr>\n",
       "    <tr>\n",
       "      <th>1</th>\n",
       "      <td>jtl0dijy2j</td>\n",
       "      <td>2014-07-01</td>\n",
       "      <td>20140701000051</td>\n",
       "      <td>NaN</td>\n",
       "      <td>-unknown-</td>\n",
       "      <td>NaN</td>\n",
       "      <td>basic</td>\n",
       "      <td>0</td>\n",
       "      <td>en</td>\n",
       "      <td>direct</td>\n",
       "      <td>direct</td>\n",
       "      <td>untracked</td>\n",
       "      <td>Moweb</td>\n",
       "      <td>iPhone</td>\n",
       "      <td>Mobile Safari</td>\n",
       "    </tr>\n",
       "    <tr>\n",
       "      <th>2</th>\n",
       "      <td>xx0ulgorjt</td>\n",
       "      <td>2014-07-01</td>\n",
       "      <td>20140701000148</td>\n",
       "      <td>NaN</td>\n",
       "      <td>-unknown-</td>\n",
       "      <td>NaN</td>\n",
       "      <td>basic</td>\n",
       "      <td>0</td>\n",
       "      <td>en</td>\n",
       "      <td>direct</td>\n",
       "      <td>direct</td>\n",
       "      <td>linked</td>\n",
       "      <td>Web</td>\n",
       "      <td>Windows Desktop</td>\n",
       "      <td>Chrome</td>\n",
       "    </tr>\n",
       "    <tr>\n",
       "      <th>3</th>\n",
       "      <td>6c6puo6ix0</td>\n",
       "      <td>2014-07-01</td>\n",
       "      <td>20140701000215</td>\n",
       "      <td>NaN</td>\n",
       "      <td>-unknown-</td>\n",
       "      <td>NaN</td>\n",
       "      <td>basic</td>\n",
       "      <td>0</td>\n",
       "      <td>en</td>\n",
       "      <td>direct</td>\n",
       "      <td>direct</td>\n",
       "      <td>linked</td>\n",
       "      <td>Web</td>\n",
       "      <td>Windows Desktop</td>\n",
       "      <td>IE</td>\n",
       "    </tr>\n",
       "    <tr>\n",
       "      <th>4</th>\n",
       "      <td>czqhjk3yfe</td>\n",
       "      <td>2014-07-01</td>\n",
       "      <td>20140701000305</td>\n",
       "      <td>NaN</td>\n",
       "      <td>-unknown-</td>\n",
       "      <td>NaN</td>\n",
       "      <td>basic</td>\n",
       "      <td>0</td>\n",
       "      <td>en</td>\n",
       "      <td>direct</td>\n",
       "      <td>direct</td>\n",
       "      <td>untracked</td>\n",
       "      <td>Web</td>\n",
       "      <td>Mac Desktop</td>\n",
       "      <td>Safari</td>\n",
       "    </tr>\n",
       "  </tbody>\n",
       "</table>\n",
       "</div>"
      ],
      "text/plain": [
       "           id date_account_created  timestamp_first_active  \\\n",
       "0  5uwns89zht           2014-07-01          20140701000006   \n",
       "1  jtl0dijy2j           2014-07-01          20140701000051   \n",
       "2  xx0ulgorjt           2014-07-01          20140701000148   \n",
       "3  6c6puo6ix0           2014-07-01          20140701000215   \n",
       "4  czqhjk3yfe           2014-07-01          20140701000305   \n",
       "\n",
       "   date_first_booking     gender   age signup_method  signup_flow language  \\\n",
       "0                 NaN     FEMALE  35.0      facebook            0       en   \n",
       "1                 NaN  -unknown-   NaN         basic            0       en   \n",
       "2                 NaN  -unknown-   NaN         basic            0       en   \n",
       "3                 NaN  -unknown-   NaN         basic            0       en   \n",
       "4                 NaN  -unknown-   NaN         basic            0       en   \n",
       "\n",
       "  affiliate_channel affiliate_provider first_affiliate_tracked signup_app  \\\n",
       "0            direct             direct               untracked      Moweb   \n",
       "1            direct             direct               untracked      Moweb   \n",
       "2            direct             direct                  linked        Web   \n",
       "3            direct             direct                  linked        Web   \n",
       "4            direct             direct               untracked        Web   \n",
       "\n",
       "  first_device_type  first_browser  \n",
       "0            iPhone  Mobile Safari  \n",
       "1            iPhone  Mobile Safari  \n",
       "2   Windows Desktop         Chrome  \n",
       "3   Windows Desktop             IE  \n",
       "4       Mac Desktop         Safari  "
      ]
     },
     "execution_count": 28,
     "metadata": {},
     "output_type": "execute_result"
    }
   ],
   "source": [
    "# lecture de la base données test\n",
    "df_test = pd.read_csv('test_users - test_users.csv')\n",
    "df_test.head()"
   ]
  },
  {
   "cell_type": "code",
   "execution_count": 29,
   "metadata": {},
   "outputs": [
    {
     "name": "stdout",
     "output_type": "stream",
     "text": [
      "<class 'pandas.core.frame.DataFrame'>\n",
      "RangeIndex: 62096 entries, 0 to 62095\n",
      "Data columns (total 15 columns):\n",
      " #   Column                   Non-Null Count  Dtype  \n",
      "---  ------                   --------------  -----  \n",
      " 0   id                       62096 non-null  object \n",
      " 1   date_account_created     62096 non-null  object \n",
      " 2   timestamp_first_active   62096 non-null  int64  \n",
      " 3   date_first_booking       0 non-null      float64\n",
      " 4   gender                   62096 non-null  object \n",
      " 5   age                      33220 non-null  float64\n",
      " 6   signup_method            62096 non-null  object \n",
      " 7   signup_flow              62096 non-null  int64  \n",
      " 8   language                 62096 non-null  object \n",
      " 9   affiliate_channel        62096 non-null  object \n",
      " 10  affiliate_provider       62096 non-null  object \n",
      " 11  first_affiliate_tracked  62076 non-null  object \n",
      " 12  signup_app               62096 non-null  object \n",
      " 13  first_device_type        62096 non-null  object \n",
      " 14  first_browser            62096 non-null  object \n",
      "dtypes: float64(2), int64(2), object(11)\n",
      "memory usage: 7.1+ MB\n"
     ]
    }
   ],
   "source": [
    "df_test.info()"
   ]
  },
  {
   "cell_type": "code",
   "execution_count": 30,
   "metadata": {},
   "outputs": [
    {
     "data": {
      "text/html": [
       "<div>\n",
       "<style scoped>\n",
       "    .dataframe tbody tr th:only-of-type {\n",
       "        vertical-align: middle;\n",
       "    }\n",
       "\n",
       "    .dataframe tbody tr th {\n",
       "        vertical-align: top;\n",
       "    }\n",
       "\n",
       "    .dataframe thead th {\n",
       "        text-align: right;\n",
       "    }\n",
       "</style>\n",
       "<table border=\"1\" class=\"dataframe\">\n",
       "  <thead>\n",
       "    <tr style=\"text-align: right;\">\n",
       "      <th></th>\n",
       "      <th>id</th>\n",
       "      <th>date_account_created</th>\n",
       "      <th>timestamp_first_active</th>\n",
       "      <th>date_first_booking</th>\n",
       "      <th>gender</th>\n",
       "      <th>age</th>\n",
       "      <th>signup_method</th>\n",
       "      <th>signup_flow</th>\n",
       "      <th>language</th>\n",
       "      <th>affiliate_channel</th>\n",
       "      <th>affiliate_provider</th>\n",
       "      <th>first_affiliate_tracked</th>\n",
       "      <th>signup_app</th>\n",
       "      <th>first_device_type</th>\n",
       "      <th>first_browser</th>\n",
       "    </tr>\n",
       "  </thead>\n",
       "  <tbody>\n",
       "  </tbody>\n",
       "</table>\n",
       "</div>"
      ],
      "text/plain": [
       "Empty DataFrame\n",
       "Columns: [id, date_account_created, timestamp_first_active, date_first_booking, gender, age, signup_method, signup_flow, language, affiliate_channel, affiliate_provider, first_affiliate_tracked, signup_app, first_device_type, first_browser]\n",
       "Index: []"
      ]
     },
     "execution_count": 30,
     "metadata": {},
     "output_type": "execute_result"
    }
   ],
   "source": [
    "# Afficher les doublons s'ils existent !\n",
    "df_test[df_test[['id']].duplicated() == True]"
   ]
  },
  {
   "cell_type": "code",
   "execution_count": 31,
   "metadata": {},
   "outputs": [],
   "source": [
    "# Drope 'id'\n",
    "df_test = df_test.drop(columns=[\"id\"], axis = 1)"
   ]
  },
  {
   "cell_type": "markdown",
   "metadata": {},
   "source": [
    "### 5.1) Convertir les dates  (objets vers dates): \n",
    "date_account_created, timestamp_first_active, date_first_booking"
   ]
  },
  {
   "cell_type": "code",
   "execution_count": 32,
   "metadata": {},
   "outputs": [
    {
     "data": {
      "text/plain": [
       "date_account_created      datetime64[ns]\n",
       "timestamp_first_active    datetime64[ns]\n",
       "date_first_booking        datetime64[ns]\n",
       "dtype: object"
      ]
     },
     "execution_count": 32,
     "metadata": {},
     "output_type": "execute_result"
    }
   ],
   "source": [
    "# Convertir le type objet vers date\n",
    "df_test['date_account_created'] = pd.to_datetime(df_test['date_account_created'], format='%Y-%m-%d')\n",
    "df_test['timestamp_first_active'] = pd.to_datetime(df_test['timestamp_first_active'], format='%Y%m%d%H%M%S')\n",
    "df_test['date_first_booking'] = pd.to_datetime(df_test['date_first_booking'], format='%Y-%m-%d')\n",
    "\n",
    "# Vérifier la conversion de types date\n",
    "column_dates = ['date_account_created', 'timestamp_first_active', 'date_first_booking']\n",
    "df_test[column_dates].dtypes"
   ]
  },
  {
   "cell_type": "markdown",
   "metadata": {},
   "source": [
    "### 5.2)  Remplacer les valeurs manquantes de first_affiliate_tracked"
   ]
  },
  {
   "cell_type": "code",
   "execution_count": 33,
   "metadata": {},
   "outputs": [],
   "source": [
    "# Remplacer les valeurs manquantes (Cat) de first_affiliate_tracked par \"untracked\"\n",
    "index = df_test[df_test.first_affiliate_tracked.isnull()].index\n",
    "df_test.loc[index, \"first_affiliate_tracked\"] = 'untracked'"
   ]
  },
  {
   "cell_type": "markdown",
   "metadata": {},
   "source": [
    "### 5.3)  Remplacer les valeurs manquantes de l'age"
   ]
  },
  {
   "cell_type": "code",
   "execution_count": 34,
   "metadata": {},
   "outputs": [],
   "source": [
    "# Remplacer les valeurs manquantes de l'age par le mode \n",
    "df_test[\"age\"].fillna(df_test[\"age\"].mode()[0], axis= 0, inplace=True)\n",
    "\n",
    "#Converter l'Age (float vers int32)  \n",
    "df_test[\"age\"] = df_test[\"age\"].astype(np.int32) "
   ]
  },
  {
   "cell_type": "markdown",
   "metadata": {},
   "source": [
    "### 5.4)  Supprimer la colonne date_first_booking"
   ]
  },
  {
   "cell_type": "code",
   "execution_count": 35,
   "metadata": {},
   "outputs": [],
   "source": [
    "# Drope 'date_first_booking'\n",
    "df_test = df_test.drop(columns=[\"date_first_booking\"], axis = 1, )\n",
    "\n",
    "# reset index\n",
    "df_test = df_test.reset_index(drop=True)"
   ]
  },
  {
   "cell_type": "markdown",
   "metadata": {},
   "source": [
    "### 5.5) Correction/Standardisation/Normalisation de données"
   ]
  },
  {
   "cell_type": "code",
   "execution_count": 36,
   "metadata": {},
   "outputs": [
    {
     "data": {
      "text/html": [
       "<div>\n",
       "<style scoped>\n",
       "    .dataframe tbody tr th:only-of-type {\n",
       "        vertical-align: middle;\n",
       "    }\n",
       "\n",
       "    .dataframe tbody tr th {\n",
       "        vertical-align: top;\n",
       "    }\n",
       "\n",
       "    .dataframe thead th {\n",
       "        text-align: right;\n",
       "    }\n",
       "</style>\n",
       "<table border=\"1\" class=\"dataframe\">\n",
       "  <thead>\n",
       "    <tr style=\"text-align: right;\">\n",
       "      <th></th>\n",
       "      <th>date_account_created</th>\n",
       "      <th>timestamp_first_active</th>\n",
       "      <th>gender</th>\n",
       "      <th>age</th>\n",
       "      <th>signup_method</th>\n",
       "      <th>signup_flow</th>\n",
       "      <th>language</th>\n",
       "      <th>affiliate_channel</th>\n",
       "      <th>affiliate_provider</th>\n",
       "      <th>first_affiliate_tracked</th>\n",
       "      <th>signup_app</th>\n",
       "      <th>first_device_type</th>\n",
       "      <th>first_browser</th>\n",
       "    </tr>\n",
       "  </thead>\n",
       "  <tbody>\n",
       "    <tr>\n",
       "      <th>0</th>\n",
       "      <td>2014-07-01</td>\n",
       "      <td>2014-07-01 00:00:06</td>\n",
       "      <td>FEMALE</td>\n",
       "      <td>0.228571</td>\n",
       "      <td>facebook</td>\n",
       "      <td>0.0</td>\n",
       "      <td>en</td>\n",
       "      <td>direct</td>\n",
       "      <td>direct</td>\n",
       "      <td>untracked</td>\n",
       "      <td>Moweb</td>\n",
       "      <td>iPhone</td>\n",
       "      <td>Mobile Safari</td>\n",
       "    </tr>\n",
       "    <tr>\n",
       "      <th>1</th>\n",
       "      <td>2014-07-01</td>\n",
       "      <td>2014-07-01 00:00:51</td>\n",
       "      <td>-unknown-</td>\n",
       "      <td>0.128571</td>\n",
       "      <td>basic</td>\n",
       "      <td>0.0</td>\n",
       "      <td>en</td>\n",
       "      <td>direct</td>\n",
       "      <td>direct</td>\n",
       "      <td>untracked</td>\n",
       "      <td>Moweb</td>\n",
       "      <td>iPhone</td>\n",
       "      <td>Mobile Safari</td>\n",
       "    </tr>\n",
       "    <tr>\n",
       "      <th>2</th>\n",
       "      <td>2014-07-01</td>\n",
       "      <td>2014-07-01 00:01:48</td>\n",
       "      <td>-unknown-</td>\n",
       "      <td>0.128571</td>\n",
       "      <td>basic</td>\n",
       "      <td>0.0</td>\n",
       "      <td>en</td>\n",
       "      <td>direct</td>\n",
       "      <td>direct</td>\n",
       "      <td>linked</td>\n",
       "      <td>Web</td>\n",
       "      <td>Windows Desktop</td>\n",
       "      <td>Chrome</td>\n",
       "    </tr>\n",
       "    <tr>\n",
       "      <th>3</th>\n",
       "      <td>2014-07-01</td>\n",
       "      <td>2014-07-01 00:02:15</td>\n",
       "      <td>-unknown-</td>\n",
       "      <td>0.128571</td>\n",
       "      <td>basic</td>\n",
       "      <td>0.0</td>\n",
       "      <td>en</td>\n",
       "      <td>direct</td>\n",
       "      <td>direct</td>\n",
       "      <td>linked</td>\n",
       "      <td>Web</td>\n",
       "      <td>Windows Desktop</td>\n",
       "      <td>IE</td>\n",
       "    </tr>\n",
       "    <tr>\n",
       "      <th>4</th>\n",
       "      <td>2014-07-01</td>\n",
       "      <td>2014-07-01 00:03:05</td>\n",
       "      <td>-unknown-</td>\n",
       "      <td>0.128571</td>\n",
       "      <td>basic</td>\n",
       "      <td>0.0</td>\n",
       "      <td>en</td>\n",
       "      <td>direct</td>\n",
       "      <td>direct</td>\n",
       "      <td>untracked</td>\n",
       "      <td>Web</td>\n",
       "      <td>Mac Desktop</td>\n",
       "      <td>Safari</td>\n",
       "    </tr>\n",
       "  </tbody>\n",
       "</table>\n",
       "</div>"
      ],
      "text/plain": [
       "  date_account_created timestamp_first_active     gender       age  \\\n",
       "0           2014-07-01    2014-07-01 00:00:06     FEMALE  0.228571   \n",
       "1           2014-07-01    2014-07-01 00:00:51  -unknown-  0.128571   \n",
       "2           2014-07-01    2014-07-01 00:01:48  -unknown-  0.128571   \n",
       "3           2014-07-01    2014-07-01 00:02:15  -unknown-  0.128571   \n",
       "4           2014-07-01    2014-07-01 00:03:05  -unknown-  0.128571   \n",
       "\n",
       "  signup_method  signup_flow language affiliate_channel affiliate_provider  \\\n",
       "0      facebook          0.0       en            direct             direct   \n",
       "1         basic          0.0       en            direct             direct   \n",
       "2         basic          0.0       en            direct             direct   \n",
       "3         basic          0.0       en            direct             direct   \n",
       "4         basic          0.0       en            direct             direct   \n",
       "\n",
       "  first_affiliate_tracked signup_app first_device_type  first_browser  \n",
       "0               untracked      Moweb            iPhone  Mobile Safari  \n",
       "1               untracked      Moweb            iPhone  Mobile Safari  \n",
       "2                  linked        Web   Windows Desktop         Chrome  \n",
       "3                  linked        Web   Windows Desktop             IE  \n",
       "4               untracked        Web       Mac Desktop         Safari  "
      ]
     },
     "execution_count": 36,
     "metadata": {},
     "output_type": "execute_result"
    }
   ],
   "source": [
    "# Création un dataframe pour les 2 series \"age\" et \"signup_flow\"\n",
    "df_test_normal = pd.DataFrame({'age_norm': df_test[\"age\"],\n",
    "                          'signup_flow_norm': df_test[\"signup_flow\"]\n",
    "                         })\n",
    "\n",
    "test_echelle = scaler.transform(df_test_normal)\n",
    "#conversion en dataframe \n",
    "df_test_echelle = pd.DataFrame(test_echelle, columns=[\"age\", \"signup_flow\"])\n",
    "\n",
    "# Remplacement par les nouvelles valeurs transformées\n",
    "df_test[\"signup_flow\"] = df_test_echelle[\"signup_flow\"]\n",
    "df_test[\"age\"] = df_test_echelle[\"age\"]\n",
    "df_test.head()"
   ]
  },
  {
   "cell_type": "code",
   "execution_count": 37,
   "metadata": {},
   "outputs": [
    {
     "name": "stdout",
     "output_type": "stream",
     "text": [
      "<class 'pandas.core.frame.DataFrame'>\n",
      "RangeIndex: 62096 entries, 0 to 62095\n",
      "Data columns (total 13 columns):\n",
      " #   Column                   Non-Null Count  Dtype         \n",
      "---  ------                   --------------  -----         \n",
      " 0   date_account_created     62096 non-null  datetime64[ns]\n",
      " 1   timestamp_first_active   62096 non-null  datetime64[ns]\n",
      " 2   gender                   62096 non-null  object        \n",
      " 3   age                      62096 non-null  float64       \n",
      " 4   signup_method            62096 non-null  object        \n",
      " 5   signup_flow              62096 non-null  float64       \n",
      " 6   language                 62096 non-null  object        \n",
      " 7   affiliate_channel        62096 non-null  object        \n",
      " 8   affiliate_provider       62096 non-null  object        \n",
      " 9   first_affiliate_tracked  62096 non-null  object        \n",
      " 10  signup_app               62096 non-null  object        \n",
      " 11  first_device_type        62096 non-null  object        \n",
      " 12  first_browser            62096 non-null  object        \n",
      "dtypes: datetime64[ns](2), float64(2), object(9)\n",
      "memory usage: 6.2+ MB\n"
     ]
    }
   ],
   "source": [
    "df_test.info()"
   ]
  },
  {
   "cell_type": "markdown",
   "metadata": {},
   "source": [
    "### Enregistrer le data test dans un csv"
   ]
  },
  {
   "cell_type": "code",
   "execution_count": 38,
   "metadata": {},
   "outputs": [],
   "source": [
    "df_test.to_csv(\"df_test_out\")"
   ]
  }
 ],
 "metadata": {
  "kernelspec": {
   "display_name": "Python 3",
   "language": "python",
   "name": "python3"
  },
  "language_info": {
   "codemirror_mode": {
    "name": "ipython",
    "version": 3
   },
   "file_extension": ".py",
   "mimetype": "text/x-python",
   "name": "python",
   "nbconvert_exporter": "python",
   "pygments_lexer": "ipython3",
   "version": "3.8.5"
  }
 },
 "nbformat": 4,
 "nbformat_minor": 4
}
